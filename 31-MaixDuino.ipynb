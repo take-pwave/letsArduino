{
 "cells": [
  {
   "cell_type": "markdown",
   "metadata": {},
   "source": [
    "# MaixDuino\n",
    "\n",
    "先日、SiPEEDにMAiXのArduino IDE対応版Maixduinoのページがあることに気づきました。\n",
    "- https://maixduino.sipeed.com/en/\n",
    "\n",
    "電波法の規制からMAiXシリーズで日本で利用できるのは、WiFiを含まないBitボードのみです。\n",
    "\n",
    "<img src=\"images/31/Bit-Kit.png\" width=\"350px\"/>\n",
    "\n",
    "このBitボードにカメラとLCDをセットしたBit Kitが以下のサイトから購入できます。\n",
    "- https://www.seeedstudio.com/Sipeed-MAix-BiT-for-RISC-V-AI-IoT-1-p-2873.html\n"
   ]
  },
  {
   "cell_type": "markdown",
   "metadata": {},
   "source": [
    "## インストール\n",
    "\n",
    "MaixDuinoをArduino IDEで使えるようにするには、Preferences...を選択し、\n",
    "以下の１行をカンマ（,）で区切って追加します。\n",
    "\n",
    "```\n",
    "http://dl.sipeed.com/MAIX/Maixduino/package_Maixduino_k210_index.json\n",
    "```\n",
    "\n",
    "<img src=\"images/31/Arduino_Preferences.png\" width=\"400px\" />\n",
    "\n",
    "次に「ツール」メニューの「ボード」から「ボードマネージャ...」を選択します。\n",
    "最新情報の読み込みが終わったら、検索ボックスにMaixと入力すると、Maixduino\n",
    "の項目が表示されますので、インストールボタンでインストールしてください。\n",
    "\n",
    "\n",
    "<img src=\"images/31/BoardManager.png\" width=\"400px\" />\n",
    "\n",
    "サイドボードマネージャを選択し、Sipeed \"Maix OneDock\"/\"Maix Bit\" Boardを選択してくだしい。\n",
    "\n",
    "<img src=\"images/31/Boardmenu.png\" width=\"350px\" />\n",
    "\n",
    "同時にシリアルポートも選択してください。\n",
    "私の場合、「/dev/cu.wchusbserial1420」を選択します。\n",
    "\n"
   ]
  },
  {
   "cell_type": "markdown",
   "metadata": {},
   "source": [
    "##  Lチカに挑戦\n",
    "定番のLチカでインストールを確認してみましょう。\n",
    "ボードの13番がLEDに接続されているので、スケッチ例から01.Basics>Blinkを選択します。\n",
    "\n",
    "「スケッチ」メニューから「ボードに書き込む」を選択すると、Bitボードの３色LEDのグリーン\n",
    "が点滅します。\n"
   ]
  },
  {
   "cell_type": "markdown",
   "metadata": {},
   "source": [
    "## KPUを使ってみる\n",
    "MAiXの売りのニューラルネット・ハードウェアアクセラレータ（KPU）の例題を動かしてみましょう。\n",
    "\n",
    "この例題を実行するには、mobilenetv1_1.0.kmodelとlabel.txtをSDカードにセットする必要があります。\n",
    "mobilenetv1_1.0.kmdel、は、以下からダウンロードし、\n",
    "以下のサイトからmodelsからmobilenetv1_1.0.kmdelを、dataからlabel.txtをダウンロードします。\n",
    "\n",
    "- https://github.com/kendryte/tensorflow-workspace/tree/master/mobilenetv1\n",
    "\n",
    "サンプルに合わせるため、mobilenetv1_1.0.kmdelはファイル名を\"m\"に変更して書き込みます。\n",
    "\n",
    "### mobilenet_v1を動かす\n",
    "サンプル例から「Maix_KPU」> 「mobilenet_v1」を選択します。\n",
    "\n",
    "<img src=\"images/31/mobilenetv1_menu.png\" width=\"350px\" />\n",
    "\n",
    "\n",
    "BitボードにカメラとLCDをセットし、USBケーブルに接続し、\n",
    "「スケッチ」メニューから「ボードに書き込む」を選択します。\n",
    "\n",
    "LCDに「Loading ...」とでれば正しく処理が行われています。\n",
    "しばらくするとカメラ画像が表示され、写しだれたものが何か\n",
    "識別して表示します。以下の写真は、コンピュータマウスを\n",
    "正しく認識しています。\n",
    "\n",
    "<img src=\"images/31/bit_mobile_v1.png\" width=\"450px\" />\n",
    "\n"
   ]
  },
  {
   "cell_type": "code",
   "execution_count": null,
   "metadata": {
    "collapsed": true
   },
   "outputs": [],
   "source": []
  }
 ],
 "metadata": {
  "kernelspec": {
   "display_name": "Python 2",
   "language": "python",
   "name": "python2"
  },
  "language_info": {
   "codemirror_mode": {
    "name": "ipython",
    "version": 2
   },
   "file_extension": ".py",
   "mimetype": "text/x-python",
   "name": "python",
   "nbconvert_exporter": "python",
   "pygments_lexer": "ipython2",
   "version": "2.7.13"
  }
 },
 "nbformat": 4,
 "nbformat_minor": 0
}
