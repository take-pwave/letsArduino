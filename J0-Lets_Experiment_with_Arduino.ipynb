{
 "cells": [
  {
   "cell_type": "markdown",
   "metadata": {},
   "source": [
    "オリジナルの作成：2015/10/17"
   ]
  },
  {
   "cell_type": "markdown",
   "metadata": {},
   "source": [
    "# J0-Arduinoで実験（トラ技201510）\n",
    "## LEDイルミネーション\n",
    "トランジスタ技術2015年10月号（トラ技2015/10と書きます）で紹介されている 「手を叩くと光り出すフルディスクリートLEDイルミネーション」 を作ってみました。\n",
    "\n",
    "部品もCQ出版で購入できるので、地方に住む私でも簡単に実験ができました。\n",
    "\n",
    "<img src=\"images/J0/board.png\" width=\"400\" />\n",
    "\n",
    "実際に動かしている動画が以下に公開しています。\n",
    "\n",
    "- https://www.facebook.com/hiroshi.takemoto.94/videos/877183202388707/?l=4810678554336115820\n",
    "\n",
    "### 回路\n",
    "全体の回路をトラ技2015/10の図２から引用します。\n",
    "\n",
    "<img src=\"images/J0/sch.png\" width=\"600\" />\n",
    "\n",
    "### トランジスタの基礎\n",
    "トラ技2015/10の特集記事はとても良くできていて、回路の抵抗値がどのようにして 計算されたのか実験とLTSpiceを使ったシミュレーションで丁寧に説明しています。\n",
    "\n",
    "基本は、以下の３つです。\n",
    "\n",
    "- ベース・エミッタ間の電圧: $V_{BE}$ = 0.6 〜0.8 V（計算では0.6Vで計算しています）\n",
    "- トランジスタの電流増幅は: Ic = β Ib（通常β=100で計算します）\n",
    "- オームの法則: V = R I\n",
    "\n",
    "これまで、何の疑問もなく$V_{BE}$は0.6と覚えていましたが、 0.6V近辺で頭打ちになる性質を使って、電圧の計算がとても簡単にできることを再確認しました。\n",
    "\n",
    "トランジスタの$V_{BE}$を測る回路をトラ技の図7から引用します。\n",
    "\n",
    "<img src=\"images/J0/fig7.png\" width=\"300\" />\n",
    "\n",
    "この回路をブレッドボードに以下の様に組み立て、Arduinoのオシロスコープと Arduinoを使ったノコギリ波で試してみました。\n",
    "\n",
    "<img src=\"images/J0/Vbe_brd.png\" width=\"300\" />\n",
    "\n",
    "[08-オシロスコープ](https://nbviewer.jupyter.org/github/take-pwave/letsArduino/blob/master/08-Oscilloscope_with_Arduino.ipynb)\n",
    "を使ってみるで紹介したArduinoのオシロスコープで、 ノコギリ波とVBEを測ってみました。電圧は１メモリ1V、横軸の時間は１メモリ10m秒です。\n",
    "\n",
    "上段のノコギリ波は、2.5Vまで直線上に上昇していますが、 下段のVBEは、0.7V近辺で横ばいになっています。\n",
    "\n",
    "<img src=\"images/J0/V_BE_osc.png\" width=\"400\" />\n",
    "\n",
    "このようにArduinoオシロスコープを使うと簡単にトランジスタの実験が できます。"
   ]
  },
  {
   "cell_type": "markdown",
   "metadata": {},
   "source": [
    "### マイク・アンプ回路\n",
    "マイク・アンプの回路を図2から抜粋します。\n",
    "\n",
    "<img src=\"images/J0/mic_amp_sch.png\" width=\"300\" />\n",
    "\n",
    "マイクの回路（左の緑の矩形）は、データシートを元にされたと記事にありました。 *2\n",
    "\n",
    "右の矩形がアンプで、 電子工作/もう一度トランジスタでも紹介したエミッタフォロワーの増幅回路です。\n",
    "\n",
    "これをブレッドボードで実装しました。\n",
    "\n",
    "<img src=\"images/J0/mic_amp_brd.png\" width=\"300\" />\n",
    "\n",
    "Arduinoのオシロスコープで手を叩いたときのA点とB点の波形を取り込んでみました。\n",
    "\n",
    "上がA点で1メモリが0.5V、下がB点で1メモリが2.0Vで、 時間軸は1メモリ10m秒で表示しています。\n",
    "\n",
    "<img src=\"images/J0/th_mic_amp_oci.jpg\" width=\"400\" />\n",
    "\n",
    "CQ出版からダウンロードしたファイルに付属していた、LTSpiceのモデルを使ってアンプの増幅を計算してみました。\n",
    "\n",
    "以下の回路で、シミュレーションを実施しました。\n",
    "\n",
    "<img src=\"images/J0/LTSpice_Amp_sch.png\" width=\"300\" />\n",
    "\n",
    "VinとVoutは、以下の様に計算され、Arduinoのオシロスコープで測定されたのと同様の増幅がみられました。\n",
    "\n",
    "<img src=\"images/J0/LTSpice_Amp_Graph.png\" width=\"400\" />"
   ]
  },
  {
   "cell_type": "markdown",
   "metadata": {},
   "source": [
    "## 双安定マルチバイブレータ\n",
    "双安定マルチバイブレータにスイッチ付けた回路をブレッドボードに組みました。\n",
    "\n",
    "<img src=\"images/J0/th_stable_brd.jpg\" width=\"300\" />\n",
    "\n",
    "Arduinoのオシロスコープで黒と赤のスイッチで反転している様子が確認できました。 *3\n",
    "\n",
    "これは、デジタルのフリップフロップ回路と同じ動作をしています。\n",
    "\n",
    "<img src=\"images/J0/th_stable_osc.jpg\" width=\"400\" />\n",
    "\n",
    "これを以下のLTspiceのモデル*4で シミュレーションしてみました。\n",
    "\n",
    "<img src=\"images/J0/BistableMultiVibrator_sch.png\" width=\"400\" />\n",
    "\n",
    "Arduinoオシロスコープの測定範囲が0.0〜5.0Vのため、以下の様なマイナスのひげは みることができませんでした。\n",
    "\n",
    "<img src=\"images/J0/BistableMultiVibrator_Graph.png\" width=\"400\" />"
   ]
  },
  {
   "cell_type": "markdown",
   "metadata": {},
   "source": [
    "## 無安定マルチバイブレータ †\n",
    "最後に、無安定マルチバイブレータの出力波形（OUT1, OUT2）をArduinoオシロスコープでみてみます。\n",
    "\n",
    "一方が0Vになった瞬間からコンデンサーに電荷が蓄えられる様子が確認できます。\n",
    "\n",
    "<img src=\"images/J0/th_aStable_osc.jpg\" width=\"400\" />\n",
    "\n",
    "### LTspiceのシミュレーション\n",
    "LTspiceで以下の無安定マルチバイブレータ回路をシミュレーションします。\n",
    "\n",
    "<img src=\"images/J0/aStable_sch.png\" width=\"400\" />\n",
    "\n",
    "シミュレーションの出力は以下の様になります。\n",
    "\n",
    "<img src=\"images/J0/aStable_Graph.png\" width=\"400\" />\n",
    "\n",
    "Arduinoオシロスコープの出力は、以下の様になっています。\n",
    "\n",
    "Arduinoオシロスコープの測定範囲が0.0〜5.0Vのため、０Vからの出力になっていますが、\n",
    "\n",
    "同様の波形が見られます。\n",
    "\n",
    "<img src=\"images/J0/th_aStable_Ve_osc.jpg\" width=\"400\" />\n",
    "\n",
    "とても簡単に作れるArduinoオシロスコープでも、トランジスタの実験には 十分使えることが分かりました。"
   ]
  },
  {
   "cell_type": "code",
   "execution_count": null,
   "metadata": {
    "collapsed": true
   },
   "outputs": [],
   "source": []
  }
 ],
 "metadata": {
  "kernelspec": {
   "display_name": "Python 2",
   "language": "python",
   "name": "python2"
  },
  "language_info": {
   "codemirror_mode": {
    "name": "ipython",
    "version": 2
   },
   "file_extension": ".py",
   "mimetype": "text/x-python",
   "name": "python",
   "nbconvert_exporter": "python",
   "pygments_lexer": "ipython2",
   "version": "2.7.13"
  }
 },
 "nbformat": 4,
 "nbformat_minor": 0
}
