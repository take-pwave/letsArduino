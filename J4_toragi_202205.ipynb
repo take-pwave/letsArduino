{
  "cells": [
    {
      "cell_type": "markdown",
      "metadata": {
        "id": "9XPaBeu3rBQH"
      },
      "source": [
        "## トラ技連載「ロボット現代制御の理論と実装」\n",
        "トラ技2022年４月号からはじまった「ロボット現代制御の理論と実装」の倒立振子のモデルをPythonの\n",
        "sympyを使って解いてみます。\n",
        "\n",
        "倒立振子の座標を、トラ技2022年４月号p160の図２より引用します。\n",
        "\n",
        "<img src=\"images/J4/Fig2.png\" width=\"400\">\n",
        "\n",
        "今月号はオイラー・ラグランジュの式(1)を使って、運動方程式から倒立振子の微分方程式を求め、それを状態方程式に変換するまでをsympyを使って求めてみます。\n",
        "$$\n",
        "\\frac{d}{dt}\\left ( \\frac{\\partial L}{\\partial \\dot{x}} \\right ) - \\frac{\\partial L}{\\partial x} = 0\n",
        "\\tag{1}\n",
        "$$"
      ]
    },
    {
      "cell_type": "markdown",
      "metadata": {
        "id": "EHFB2TDPv308"
      },
      "source": [
        "### sympyの準備\n",
        "最初にsympyを使うためのにインポートと初期化をします。"
      ]
    },
    {
      "cell_type": "code",
      "execution_count": 1,
      "metadata": {
        "id": "S9AcD2Axq5Pn"
      },
      "outputs": [],
      "source": [
        "import sympy as sp\n",
        "\n",
        "sp.init_printing()"
      ]
    },
    {
      "cell_type": "markdown",
      "metadata": {
        "id": "_ZHBJEtkBCNO"
      },
      "source": [
        "次に変数を定義します。"
      ]
    },
    {
      "cell_type": "code",
      "execution_count": 2,
      "metadata": {
        "id": "K0YYAfQLA6uI"
      },
      "outputs": [],
      "source": [
        "# 変数の定義\n",
        "l, r, m, M, J_b, J_w, g, t = sp.var(\"l r m M J_b J_w g t\")\n",
        "thF = sp.Function(\"th\")\n",
        "psiF = sp.Function(\"psi\")\n",
        "psi, dpsi, ddpsi, th, dth, ddth, tau = sp.var(\"psi dpsi ddpsi th dth ddth tau\")"
      ]
    },
    {
      "cell_type": "markdown",
      "metadata": {
        "id": "kDPk1luBCAic"
      },
      "source": [
        "状態方程式に使用する変数をq, dq, ddq配列にセットします。"
      ]
    },
    {
      "cell_type": "code",
      "execution_count": 3,
      "metadata": {
        "id": "w3me_B_-B1gV"
      },
      "outputs": [],
      "source": [
        "q = [th, psi]\n",
        "dq = [dth, dpsi]\n",
        "ddq = [ddth, ddpsi]"
      ]
    },
    {
      "cell_type": "markdown",
      "metadata": {
        "id": "MXd1-F7pCZLr"
      },
      "source": [
        "### 運動エネルギー\n",
        "倒立振子の運動エネルギーは、車体の回転、車輪の回転、車体の並進の運動エネルギーを使って以下のように表されます。\n",
        "\n",
        "$$\n",
        "K = \\frac{1}{2}M(\\dot{x}_b^2 + \\dot{y}_b^2) + \\frac{1}{2} J_b\\dot{\\psi}^2 + \\frac{1}{2}m \\dot{x}_w^2 + \\frac{1}{2} J_w(\\dot{\\psi} + \\dot{\\theta})^2\n",
        "\\tag{2}\n",
        "$$\n",
        "\n",
        "ここで定数\n",
        "- $l$ : 車輪の中心から車体の重心までの長さ\n",
        "- $r$ : 車輪の半径\n",
        "- $J_b$ : 車体の重心周りの慣性モーメント\n",
        "- $J_w$ : 車輪の中心周りの慣性モーメント\n",
        "- $m$ : 車輪の重量\n",
        "- $M$ : 車体の重量\n",
        "\n",
        "各項\n",
        "- $\\frac{1}{2}M(\\dot{x}_b^2 + \\dot{y}_b^2)$ : 車体の並進の運動エネルギー\n",
        "- $\\frac{1}{2} J_w(\\dot{\\psi}^2)$ : 車体の重心周りの回転の運動エネルギー\n",
        "- $\\frac{1}{2}m \\dot{x}_w^2$ : 車輪の並進の運動エネルギー\n",
        "- $\\frac{1}{2} J_w(\\dot{\\psi} + \\dot{\\theta})^2$ : 車輪の中心周りの回転の運動エネルギー"
      ]
    },
    {
      "cell_type": "markdown",
      "metadata": {
        "id": "ffbuIdb7HbYY"
      },
      "source": [
        "### 位置エネルギー\n",
        "位置エネルギーUは、車輪と車体の関係から以下のように表されます。\n",
        "\n",
        "$$\n",
        "U = M g l cos(\\psi)\n",
        "\\tag{3}\n",
        "$$"
      ]
    },
    {
      "cell_type": "code",
      "execution_count": 4,
      "metadata": {
        "colab": {
          "base_uri": "https://localhost:8080/",
          "height": 38
        },
        "id": "2KLqdiJ5Hgcs",
        "outputId": "c3602a10-b47c-4e8d-d299-d06b7e67abd0"
      },
      "outputs": [
        {
          "data": {
            "image/png": "[encoded data removed]",
            "text/latex": [
              "$\\displaystyle M g l \\cos{\\left(\\psi \\right)}$"
            ],
            "text/plain": [
              "M⋅g⋅l⋅cos(ψ)"
            ]
          },
          "execution_count": 4,
          "metadata": {},
          "output_type": "execute_result"
        }
      ],
      "source": [
        "U = M*g*l*sp.cos(psi)\n",
        "U"
      ]
    },
    {
      "cell_type": "markdown",
      "metadata": {
        "id": "i5z-506BLAlq"
      },
      "source": [
        "### 幾何的な関係\n",
        "幾何的な関係から$x_w, x_b, y_b$は、以下のように表されます。\n",
        "$$\n",
        "x_w = r (\\theta + \\psi )\n",
        "\\tag{4}\n",
        "$$\n",
        "\n",
        "$$\n",
        "x_b = r(\\theta + \\psi) + l sin(\\psi)\n",
        "\\tag{5}\n",
        "$$\n",
        "$$\n",
        "y_b = l cos \\psi\n",
        "\\tag{6}\n",
        "$$\n"
      ]
    },
    {
      "cell_type": "code",
      "execution_count": 5,
      "metadata": {
        "colab": {
          "base_uri": "https://localhost:8080/",
          "height": 38
        },
        "id": "SuL5t3m2OLoh",
        "outputId": "9f5feb6c-8f33-453e-f8dd-8d2c23520d10"
      },
      "outputs": [
        {
          "data": {
            "image/png": "[encoded data removed]",
            "text/latex": [
              "$\\displaystyle \\left( r \\left(\\psi{\\left(t \\right)} + \\operatorname{th}{\\left(t \\right)}\\right), \\  l \\sin{\\left(\\psi{\\left(t \\right)} \\right)} + r \\left(\\psi{\\left(t \\right)} + \\operatorname{th}{\\left(t \\right)}\\right), \\  l \\cos{\\left(\\psi{\\left(t \\right)} \\right)}\\right)$"
            ],
            "text/plain": [
              "(r⋅(ψ(t) + th(t)), l⋅sin(ψ(t)) + r⋅(ψ(t) + th(t)), l⋅cos(ψ(t)))"
            ]
          },
          "execution_count": 5,
          "metadata": {},
          "output_type": "execute_result"
        }
      ],
      "source": [
        "x_w = r*(thF(t) + psiF(t))\n",
        "x_b = r*(thF(t) + psiF(t)) + l*sp.sin(psiF(t))\n",
        "y_b = l*sp.cos(psiF(t))\n",
        "\n",
        "x_w, x_b, y_b"
      ]
    },
    {
      "cell_type": "code",
      "execution_count": 6,
      "metadata": {
        "colab": {
          "base_uri": "https://localhost:8080/",
          "height": 58
        },
        "id": "5L4xa7zArW1H",
        "outputId": "1cd76c28-375b-4c97-c6af-b6be52b5cadf"
      },
      "outputs": [
        {
          "data": {
            "image/png": "[encoded data removed]",
            "text/latex": [
              "$\\displaystyle \\left( r \\left(\\frac{d}{d t} \\psi{\\left(t \\right)} + \\frac{d}{d t} \\operatorname{th}{\\left(t \\right)}\\right), \\  l \\cos{\\left(\\psi{\\left(t \\right)} \\right)} \\frac{d}{d t} \\psi{\\left(t \\right)} + r \\left(\\frac{d}{d t} \\psi{\\left(t \\right)} + \\frac{d}{d t} \\operatorname{th}{\\left(t \\right)}\\right), \\  - l \\sin{\\left(\\psi{\\left(t \\right)} \\right)} \\frac{d}{d t} \\psi{\\left(t \\right)}\\right)$"
            ],
            "text/plain": [
              "⎛  ⎛d          d        ⎞              d            ⎛d          d        ⎞    \n",
              "⎜r⋅⎜──(ψ(t)) + ──(th(t))⎟, l⋅cos(ψ(t))⋅──(ψ(t)) + r⋅⎜──(ψ(t)) + ──(th(t))⎟, -l\n",
              "⎝  ⎝dt         dt       ⎠              dt           ⎝dt         dt       ⎠    \n",
              "\n",
              "           d       ⎞\n",
              "⋅sin(ψ(t))⋅──(ψ(t))⎟\n",
              "           dt      ⎠"
            ]
          },
          "execution_count": 6,
          "metadata": {},
          "output_type": "execute_result"
        }
      ],
      "source": [
        "# x_w, x_b, y_bを微分\n",
        "dx_w = sp.diff(x_w, t)\n",
        "dx_b = sp.diff(x_b, t)\n",
        "dy_b = sp.diff(y_b, t)\n",
        "\n",
        "dx_w, dx_b, dy_b"
      ]
    },
    {
      "cell_type": "markdown",
      "metadata": {
        "id": "BSdDtcL8Ov36"
      },
      "source": [
        "これを使って運動エネルギー、位置エネルギーを表すと以下のようになります。"
      ]
    },
    {
      "cell_type": "code",
      "execution_count": 7,
      "metadata": {
        "colab": {
          "base_uri": "https://localhost:8080/",
          "height": 134
        },
        "id": "hgg1GU8wO50v",
        "outputId": "5ea6c09f-69b1-49ee-b3f3-10ab41bdbbb1"
      },
      "outputs": [
        {
          "data": {
            "image/png": "[encoded data removed]",
            "text/latex": [
              "$\\displaystyle 0.5 J_{b} dpsi^{2} + 0.5 J_{w} \\left(dpsi + dth\\right)^{2} + 0.5 M \\left(l^{2} \\sin^{2}{\\left(\\psi{\\left(t \\right)} \\right)} \\left(\\frac{d}{d t} \\psi{\\left(t \\right)}\\right)^{2} + \\left(l \\cos{\\left(\\psi{\\left(t \\right)} \\right)} \\frac{d}{d t} \\psi{\\left(t \\right)} + r \\left(\\frac{d}{d t} \\psi{\\left(t \\right)} + \\frac{d}{d t} \\operatorname{th}{\\left(t \\right)}\\right)\\right)^{2}\\right) + 0.5 m r^{2} \\left(\\frac{d}{d t} \\psi{\\left(t \\right)} + \\frac{d}{d t} \\operatorname{th}{\\left(t \\right)}\\right)^{2}$"
            ],
            "text/plain": [
              "                                              ⎛                        2      \n",
              "            2                       2         ⎜ 2    2       ⎛d       ⎞    ⎛  \n",
              "0.5⋅J_b⋅dpsi  + 0.5⋅J_w⋅(dpsi + dth)  + 0.5⋅M⋅⎜l ⋅sin (ψ(t))⋅⎜──(ψ(t))⎟  + ⎜l⋅\n",
              "                                              ⎝              ⎝dt      ⎠    ⎝  \n",
              "\n",
              "                                              2⎞                              \n",
              "          d            ⎛d          d        ⎞⎞ ⎟          2 ⎛d          d     \n",
              "cos(ψ(t))⋅──(ψ(t)) + r⋅⎜──(ψ(t)) + ──(th(t))⎟⎟ ⎟ + 0.5⋅m⋅r ⋅⎜──(ψ(t)) + ──(th(\n",
              "          dt           ⎝dt         dt       ⎠⎠ ⎠            ⎝dt         dt    \n",
              "\n",
              "    2\n",
              "   ⎞ \n",
              "t))⎟ \n",
              "   ⎠ "
            ]
          },
          "execution_count": 7,
          "metadata": {},
          "output_type": "execute_result"
        }
      ],
      "source": [
        "K = 1/2*M*(dx_b**2 + dy_b**2) + 1/2*J_b*dpsi**2 + 1/2*m*dx_w**2 + 1/2*J_w*(dpsi + dth)**2\n",
        "K"
      ]
    },
    {
      "cell_type": "markdown",
      "metadata": {
        "id": "I0wqdPErZ1BL"
      },
      "source": [
        "ここで、時間の関数として定義していた$\\theta(t), \\psi(t)$とその微分を変数$th, psi, dth, dpsi$に置換えます。"
      ]
    },
    {
      "cell_type": "code",
      "execution_count": 8,
      "metadata": {
        "colab": {
          "base_uri": "https://localhost:8080/",
          "height": 70
        },
        "id": "0wNcYvBLT_Oq",
        "outputId": "8515c5d2-208a-462d-f6db-b4aac5469728"
      },
      "outputs": [
        {
          "data": {
            "image/png": "[encoded data removed]",
            "text/latex": [
              "$\\displaystyle 0.5 J_{b} dpsi^{2} + 0.5 J_{w} \\left(dpsi + dth\\right)^{2} + 0.5 M \\left(dpsi^{2} l^{2} \\sin^{2}{\\left(\\psi \\right)} + \\left(dpsi l \\cos{\\left(\\psi \\right)} + r \\left(dpsi + dth\\right)\\right)^{2}\\right) + 0.5 m r^{2} \\left(dpsi + dth\\right)^{2}$"
            ],
            "text/plain": [
              "            2                       2         ⎛    2  2    2                  \n",
              "0.5⋅J_b⋅dpsi  + 0.5⋅J_w⋅(dpsi + dth)  + 0.5⋅M⋅⎝dpsi ⋅l ⋅sin (ψ) + (dpsi⋅l⋅cos(\n",
              "\n",
              "                    2⎞          2             2\n",
              "ψ) + r⋅(dpsi + dth)) ⎠ + 0.5⋅m⋅r ⋅(dpsi + dth) "
            ]
          },
          "execution_count": 8,
          "metadata": {},
          "output_type": "execute_result"
        }
      ],
      "source": [
        "K = K.subs({sp.diff(psiF(t), t): dpsi, sp.diff(thF(t), t): dth})\n",
        "K = K.subs({psiF(t): psi, thF: th})\n",
        "K"
      ]
    },
    {
      "cell_type": "markdown",
      "metadata": {
        "id": "Z5NMFw6jL-gz"
      },
      "source": [
        "### オイラー・ラグランジュL\n",
        "オイラー・ラグランジュの$L = K - U$に、幾何的な関係を代入すると以下のようになります。"
      ]
    },
    {
      "cell_type": "code",
      "execution_count": 9,
      "metadata": {
        "colab": {
          "base_uri": "https://localhost:8080/",
          "height": 70
        },
        "id": "aC8ydLk4JeKe",
        "outputId": "99496e22-ff52-44ec-f50f-4894d218dd87"
      },
      "outputs": [
        {
          "data": {
            "image/png": "[encoded data removed]",
            "text/latex": [
              "$\\displaystyle 0.5 J_{b} dpsi^{2} + 0.5 J_{w} \\left(dpsi + dth\\right)^{2} - M g l \\cos{\\left(\\psi \\right)} + 0.5 M \\left(dpsi^{2} l^{2} \\sin^{2}{\\left(\\psi \\right)} + \\left(dpsi l \\cos{\\left(\\psi \\right)} + r \\left(dpsi + dth\\right)\\right)^{2}\\right) + 0.5 m r^{2} \\left(dpsi + dth\\right)^{2}$"
            ],
            "text/plain": [
              "            2                       2                        ⎛    2  2    2   \n",
              "0.5⋅J_b⋅dpsi  + 0.5⋅J_w⋅(dpsi + dth)  - M⋅g⋅l⋅cos(ψ) + 0.5⋅M⋅⎝dpsi ⋅l ⋅sin (ψ)\n",
              "\n",
              "                                   2⎞          2             2\n",
              " + (dpsi⋅l⋅cos(ψ) + r⋅(dpsi + dth)) ⎠ + 0.5⋅m⋅r ⋅(dpsi + dth) "
            ]
          },
          "execution_count": 9,
          "metadata": {},
          "output_type": "execute_result"
        }
      ],
      "source": [
        "L = K - U\n",
        "L.simplify()"
      ]
    },
    {
      "cell_type": "markdown",
      "metadata": {
        "id": "Z6TZBEB70W4p"
      },
      "source": [
        "### オイラー・ラグランジュの微分\n",
        "ここで、$\\frac{d}{dt}(\\frac{\\partial L}{\\partial \\dot{q_i}})$を求めるために、$L_{q_i} = \\frac{\\partial L}{\\partial \\dot{q}_i}$として、以下の公式を使います。\n",
        "\n",
        "$$\n",
        "\\frac{d}{dt} \\left (\\frac{\\partial L}{\\partial \\dot{q_i}} \\right ) = \\Sigma_{j = 1}^N\\left ( \\frac{\\partial L_{q_i}}{\\partial \\dot{q_i}} \\ddot{q}_j + \\frac{\\partial L_{q_i}}{\\partial q_j} \\dot{q}_j \\right)\n",
        "$$"
      ]
    },
    {
      "cell_type": "code",
      "execution_count": 10,
      "metadata": {
        "id": "Bcv4QPjfMSVu"
      },
      "outputs": [],
      "source": [
        "N = len(q)"
      ]
    },
    {
      "cell_type": "code",
      "execution_count": 11,
      "metadata": {
        "id": "i35I_FNhbUD8"
      },
      "outputs": [],
      "source": [
        "dLq = []\n",
        "ddLq = []\n",
        "eq = []\n",
        "for i in range(N):\n",
        "  dLq.append(sp.diff(L, dq[i]))\n",
        "  temp = 0\n",
        "  for j in range(N):\n",
        "    temp = temp + sp.diff(dLq[i], dq[j])*ddq[j] + sp.diff(dLq[i], q[j])*dq[j]\n",
        "  ddLq.append(temp)\n",
        "  eq.append(ddLq[i] - sp.diff(L, q[i]))"
      ]
    },
    {
      "cell_type": "code",
      "execution_count": 12,
      "metadata": {
        "id": "nSkn0rgKbXA4"
      },
      "outputs": [],
      "source": [
        "for i in range(N):\n",
        "  eq[i] = eq[i].simplify()"
      ]
    },
    {
      "cell_type": "code",
      "execution_count": 13,
      "metadata": {
        "colab": {
          "base_uri": "https://localhost:8080/"
        },
        "id": "aT3VQrRTblPS",
        "outputId": "bdc32d79-8090-4b28-a2eb-6d833177b960"
      },
      "outputs": [
        {
          "name": "stdout",
          "output_type": "stream",
          "text": [
            "-1.0*M*dpsi**2*l*r*sin(psi) + 1.0*ddpsi*(J_w + M*r*(l*cos(psi) + r) + m*r**2) + 1.0*ddth*(J_w + M*r**2 + m*r**2)\n"
          ]
        }
      ],
      "source": [
        "print(eq[0])"
      ]
    },
    {
      "cell_type": "code",
      "execution_count": 14,
      "metadata": {
        "colab": {
          "base_uri": "https://localhost:8080/"
        },
        "id": "Jhw9DmDWbnlS",
        "outputId": "0491d81d-da3d-438c-dae3-ac5ce4abc297"
      },
      "outputs": [
        {
          "name": "stdout",
          "output_type": "stream",
          "text": [
            "1.0*J_b*ddpsi + 1.0*J_w*ddpsi + 1.0*J_w*ddth + 1.0*M*ddpsi*l**2 + 2.0*M*ddpsi*l*r*cos(psi) + 1.0*M*ddpsi*r**2 + 1.0*M*ddth*l*r*cos(psi) + 1.0*M*ddth*r**2 - 1.0*M*dpsi**2*l*r*sin(psi) - 1.0*M*g*l*sin(psi) + 1.0*ddpsi*m*r**2 + 1.0*ddth*m*r**2\n"
          ]
        }
      ],
      "source": [
        "print(eq[1])"
      ]
    },
    {
      "cell_type": "code",
      "execution_count": 15,
      "metadata": {
        "id": "xP7Vl8zYb419"
      },
      "outputs": [],
      "source": [
        "add_eq = eq[0] + eq[1]\n",
        "add_eq = add_eq.simplify()"
      ]
    },
    {
      "cell_type": "code",
      "execution_count": 16,
      "metadata": {
        "colab": {
          "base_uri": "https://localhost:8080/",
          "height": 60
        },
        "id": "FeIqGhbad9JH",
        "outputId": "664b3c69-447b-4e43-f52a-2c54f35c9b40"
      },
      "outputs": [
        {
          "data": {
            "image/png": "[encoded data removed]",
            "text/latex": [
              "$\\displaystyle 1.0 J_{b} ddpsi + 2.0 J_{w} ddpsi + 2.0 J_{w} ddth + 1.0 M ddpsi l^{2} + 3.0 M ddpsi l r + 2.0 M ddpsi r^{2} + 1.0 M ddth l r + 2.0 M ddth r^{2} - 1.0 M g l \\psi + 2.0 ddpsi m r^{2} + 2.0 ddth m r^{2}$"
            ],
            "text/plain": [
              "                                                            2                 \n",
              "1.0⋅J_b⋅ddpsi + 2.0⋅J_w⋅ddpsi + 2.0⋅J_w⋅ddth + 1.0⋅M⋅ddpsi⋅l  + 3.0⋅M⋅ddpsi⋅l⋅\n",
              "\n",
              "                 2                                2                          2\n",
              "r + 2.0⋅M⋅ddpsi⋅r  + 1.0⋅M⋅ddth⋅l⋅r + 2.0⋅M⋅ddth⋅r  - M⋅g⋅l⋅ψ + 2.0⋅ddpsi⋅m⋅r \n",
              "\n",
              "               2\n",
              " + 2.0⋅ddth⋅m⋅r "
            ]
          },
          "execution_count": 16,
          "metadata": {},
          "output_type": "execute_result"
        }
      ],
      "source": [
        "add_eq.subs({sp.cos(psi): 1, sp.sin(psi): psi, dpsi**2: 0, psi*dpsi: 0})"
      ]
    },
    {
      "cell_type": "markdown",
      "metadata": {
        "id": "u1SBKEoOryYl"
      },
      "source": [
        "上記の結果を式で表すと以下のようになります。\n",
        "$$\n",
        "J_b \\ddot{\\psi} + 2 J_w \\ddot{\\psi} + 2 J_w \\ddot{\\theta} + M l^2 \\ddot{\\psi} + 3 M l r \\ddot{\\psi} + 2 M r^2 \\ddot{\\psi} + M l r \\ddot{\\theta} + 2 M r^2 \\ddot{\\theta} - M g l \\psi + 2 r^2 \\ddot{\\psi} + 2 m r^2 \\ddot{\\theta} \n",
        "$$\n",
        "\n"
      ]
    },
    {
      "cell_type": "markdown",
      "metadata": {
        "id": "8UeJermouWav"
      },
      "source": [
        "これを$\\ddot{\\theta}, \\ddot{\\psi}$について整理すると求める式(12)が求まります。\n",
        "\n",
        "$$\n",
        "( J_b + 2 J_w + M l^2 + 3 M l r + 2 M r^2 + 2 m r^2 )\\ddot{\\psi}\n",
        "+ (2 J_w + M l r + 2 M r^2 + 2 m r^2)\\ddot{\\theta} - M l g \\psi = 0\n",
        "\\tag{12}\n",
        "$$"
      ]
    },
    {
      "cell_type": "code",
      "execution_count": null,
      "metadata": {
        "id": "rzd3_51ujFbP"
      },
      "outputs": [],
      "source": []
    }
  ],
  "metadata": {
    "colab": {
      "collapsed_sections": [],
      "name": "toragi_202205.ipynb",
      "provenance": []
    },
    "kernelspec": {
      "display_name": "Python 3",
      "name": "python3"
    },
    "language_info": {
      "codemirror_mode": {
        "name": "ipython",
        "version": 3
      },
      "file_extension": ".py",
      "mimetype": "text/x-python",
      "name": "python",
      "nbconvert_exporter": "python",
      "pygments_lexer": "ipython3",
      "version": "3.8.8"
    }
  },
  "nbformat": 4,
  "nbformat_minor": 0
}
