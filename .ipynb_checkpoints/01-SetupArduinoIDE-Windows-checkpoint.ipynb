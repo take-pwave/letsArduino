{
 "cells": [
  {
   "cell_type": "markdown",
   "metadata": {},
   "source": [
    "オリジナルの作成：2014/02/15"
   ]
  },
  {
   "cell_type": "markdown",
   "metadata": {},
   "source": [
    "# 01-Arduinoのセットアップ\n",
    "高岡に拠点をおくNPO法人NATの事務所をお借りして、2014年1月25日からArduino勉強をしています。\n",
    "\n",
    "共に皆さんの指導をして頂くのは、同じくNATのメンバーの中山司郎さんです。\n",
    "\n",
    "はじめての人にArduinoを使ってもらうには、どうしてもArduino IDEのインストールが必要になります。 "
   ]
  },
  {
   "cell_type": "markdown",
   "metadata": {},
   "source": [
    "## Windowsユーザのインストール手順\n",
    "Windowsユーザは、以下のURLにジャンプし、Windows Installerをクリックしてください。\n",
    "\n",
    "- http://arduino.cc/en/Main/Software#toc1\n",
    "\n",
    "ダウンロードしたexeファイルがインストーラになっていますので、指示に従ってインストールしてください。 最後にシリアルドライバーのインストールもしてくれるので、こちらもインストールすればインストール完了です。"
   ]
  },
  {
   "cell_type": "markdown",
   "metadata": {},
   "source": [
    "### シリアルポートの確認\n",
    "Arduino IDEを起動する前に、シリアルポートのCOMnの番号を確認します。\n",
    "\n",
    "最初にArduinoをUSBコネクターに差すと、新しいハードウェアの検出が始まり、ドライバーがセットされます。 USB Serial Portのインストールが完了したら、 次にWindowsのコントロールパネルを開き、デバイスマネージャーを開きます。 ポート（COMとLPT）で、USB Serial Port(COMn)のnの番号を確認します。\n",
    "\n",
    "私のXPでは、以下の様にでます。COM8がArduinoにシリアルポートだとメモしておきます。\n",
    "\n",
    "<img src=\"images/01/COM_Port.png\">"
   ]
  },
  {
   "cell_type": "markdown",
   "metadata": {},
   "source": [
    "### ボードの設定と動作確認\n",
    "Arduino IDEを起動して、ツールメニューからシリアルポートを選択し、先ほど確認したCOM番号を選択します。\n",
    "\n",
    "次に、Arduinoの型番号をセットします。ツールメニューからマイコンボードを選択し、お手持ちのArduino（ProtoSnap Pro Miniの場合Arduino UNO）を選択します。\n",
    "\n",
    "これですべての設定が完了しましたので、例題を動かして動作を確認してみましょう。 ファイルメニュー→スケッチの例→01.Basics→Blinkを選択し、○に右矢印の「マイコンボードに書き込む」アイコンをクリックします。\n",
    "\n",
    "<img src=\"images/01/AruinoIDE_Panel.png\">\n",
    "\n",
    "「スケッチをコンパイルしています」→「マイコンボードに書き込んでいます」→「マイコンボードへの書き込みが完了しました」とでたら成功です。\n",
    "\n",
    "ボードのLEDが1秒間隔で点滅しているのが確認できます。\n",
    "\n",
    "<img src=\"images/01/Arduino_LED.png\">"
   ]
  },
  {
   "cell_type": "code",
   "execution_count": null,
   "metadata": {
    "collapsed": true
   },
   "outputs": [],
   "source": []
  }
 ],
 "metadata": {
  "kernelspec": {
   "display_name": "Python 2",
   "language": "python",
   "name": "python2"
  },
  "language_info": {
   "codemirror_mode": {
    "name": "ipython",
    "version": 2
   },
   "file_extension": ".py",
   "mimetype": "text/x-python",
   "name": "python",
   "nbconvert_exporter": "python",
   "pygments_lexer": "ipython2",
   "version": "2.7.13"
  }
 },
 "nbformat": 4,
 "nbformat_minor": 0
}
