{
 "cells": [
  {
   "cell_type": "markdown",
   "metadata": {},
   "source": [
    "# No.25 Twin-T型発振回路\n",
    "大人の科学 Vol.32の付録、電子ブロックを使ってTwin-T型発信回路に挑戦してみました。\n",
    "\n",
    "矢印の抵抗とコンデサーが繋がっているところが、Tの字が２つ並んでみえることからTwin-T型と呼ばれています。\n",
    "\n",
    "<img src=\"images/B25/Twin-T-osillator_sch.png\" width=\"400\" />"
   ]
  },
  {
   "cell_type": "markdown",
   "metadata": {},
   "source": [
    "### 動かしてオシロスコープでみてみよう\n",
    "それでは、回路を電子ブロックで組んで、動かしてみましょう。ポーとやさしい音が聞こえてきます。\n",
    "\n",
    "<img src=\"images/B25/osillo_setting.png\" width=\"400\" />\n",
    "\n",
    "九州工大のArduinoオシロスコープで波形とスペクトルをみてみましょう。ちょっと歪んでいますが、正弦波に近いに波形を示しています。FFTの結果から周波数は1kHz近くであることが分かります。\n",
    "\n",
    "<img src=\"images/B25/Osillo_sampling.png\" width=\"400\" />"
   ]
  },
  {
   "cell_type": "markdown",
   "metadata": {},
   "source": [
    "## LTSpiceで計算してみよう\n",
    "上記の回路をLTSpiceで計算して波形をみてみましょう。\n",
    "ちょっと分かりづらいですが、ベース電圧V(n004)の青い線とコレクター電圧V(n002)の緑の線で波形が反転しているのが分かります。\n",
    "\n",
    "- [No.25.asc](data/No.25.asc)\n",
    "\n",
    "<img src=\"images/B25/Spice_Vout.png\" width=\"400\" />"
   ]
  },
  {
   "cell_type": "markdown",
   "metadata": {},
   "source": [
    "### Twin-T CRフィルタの計算\n",
    "抵抗とコンデンサーで作られるTwin-T CRフィルタの計算をしてくれる便利なサイトがありました。\n",
    "\n",
    "- [Twin-T CR・フィルタ計算ツール](http://sim.okawa-denshi.jp/TwinTCRtool.php)\n",
    "\n",
    "このサイトで計算した伝達関数は、以下のようになります。\n",
    "\n",
    "$$\n",
    "G(s) = \\frac{s^3+2000s^2+12000000s+200000000000}{s^3+114000s^2+412000000s+200000000000\n",
    "}\n",
    "$$\n",
    "\n",
    "伝達関数のグラフは、バンドパスフィルタがY軸で反転した形を持ち、\n",
    "振幅が最も小さいところで、位相-180度（反転）となっています。\n",
    "\n",
    "\n",
    "<img  src=\"images/B25/im_grph.png\" width=\"500\" />"
   ]
  },
  {
   "cell_type": "markdown",
   "metadata": {},
   "source": [
    "## Sageでノッチフィルタの伝達関数をプロット\n",
    "せっかくSageを使っているので、ノッチフィルタの伝達関数のグラフを求めてみましょう。\n",
    "\n",
    "s, R1, R2, R3, C1, C2, C3の変数を定義して、伝達関数Hを定義します。\n",
    "伝達関数は、\n",
    "[ツインＴノッチフィルタの解析](https://note.chiebukuro.yahoo.co.jp/detail/n327729?fr=pc_fb_share_n)\n",
    "を参考にしました。"
   ]
  },
  {
   "cell_type": "code",
   "execution_count": 1,
   "metadata": {
    "collapsed": true
   },
   "outputs": [],
   "source": [
    "## ノッチフィルタ\n",
    "s, R1, R2, R3, C1, C2, C3 = var('s R1 R2 R3 C1 C2 C3')\n",
    "\n",
    "H =( s^3*R1*R2*R3*C1*C2*C3 + s^2*(R2*R3*C2*C3  + R1*R3*C2*C3) + s*(C2*R3 + C3*R3) + 1)/(s^3*(C1*C2*C3*R1*R2*R3) + s^2*(C1*C3*R1*R2 + C2*C3*R1*R3 + C2*C3*R2*R3 + C1*C2*R1*R3 + C1*C3*R1*R3) + s*(C3*R1 + C3*R2 + C2*R3 + C1*R1 + C3*R3) + 1)"
   ]
  },
  {
   "cell_type": "code",
   "execution_count": 2,
   "metadata": {
    "collapsed": false
   },
   "outputs": [
    {
     "data": {
      "text/html": [
       "<html><script type=\"math/tex; mode=display\">\\newcommand{\\Bold}[1]{\\mathbf{#1}}\\frac{C_{1} C_{2} C_{3} R_{1} R_{2} R_{3} s^{3} + {\\left(C_{2} C_{3} R_{1} R_{3} + C_{2} C_{3} R_{2} R_{3}\\right)} s^{2} + {\\left(C_{2} R_{3} + C_{3} R_{3}\\right)} s + 1}{C_{1} C_{2} C_{3} R_{1} R_{2} R_{3} s^{3} + {\\left(C_{1} C_{3} R_{1} R_{2} + C_{1} C_{2} R_{1} R_{3} + C_{1} C_{3} R_{1} R_{3} + C_{2} C_{3} R_{1} R_{3} + C_{2} C_{3} R_{2} R_{3}\\right)} s^{2} + {\\left(C_{1} R_{1} + C_{3} R_{1} + C_{3} R_{2} + C_{2} R_{3} + C_{3} R_{3}\\right)} s + 1}</script></html>"
      ],
      "text/plain": [
       "(C1*C2*C3*R1*R2*R3*s^3 + (C2*C3*R1*R3 + C2*C3*R2*R3)*s^2 + (C2*R3 + C3*R3)*s + 1)/(C1*C2*C3*R1*R2*R3*s^3 + (C1*C3*R1*R2 + C1*C2*R1*R3 + C1*C3*R1*R3 + C2*C3*R1*R3 + C2*C3*R2*R3)*s^2 + (C1*R1 + C3*R1 + C3*R2 + C2*R3 + C3*R3)*s + 1)"
      ]
     },
     "metadata": {},
     "output_type": "display_data"
    }
   ],
   "source": [
    "show(H)"
   ]
  },
  {
   "cell_type": "markdown",
   "metadata": {},
   "source": [
    "抵抗とコンデンサーの値をHに代入し、$s=2 \\pi i f$として、伝達関数の振幅と位相をグラフに表示してみましょう。振幅はtoDb関数デジベルに変換、位相はtoDeg関数で度に変換して方対数グラフでプロットします。\n"
   ]
  },
  {
   "cell_type": "code",
   "execution_count": 3,
   "metadata": {
    "collapsed": true
   },
   "outputs": [],
   "source": [
    "f = var('f')\n",
    "vals = {s: 2*i*pi*f,  R1: 10^4, R2: 10^4, R3:10^3, C1:10^-7, C2: 10^-8, C3:5*10^-8}\n",
    "\n",
    "h(f) = H.subs(vals)\n",
    "\n",
    "# 電気ではデジベルで表示するため、toDb関数を定義する\n",
    "def toDb(v):\n",
    "    return 20*log(abs(v), 10) \n",
    "\n",
    "# 位相は以下の様になる\n",
    "Phi(f) = arctan(imaginary(h(f))/real(h(f)))\n",
    "\n",
    "# 位相を度で表示\n",
    "def toDeg(v):\n",
    "    return v*180/pi "
   ]
  },
  {
   "cell_type": "code",
   "execution_count": 4,
   "metadata": {
    "collapsed": false,
    "scrolled": false
   },
   "outputs": [
    {
     "data": {
      "image/png": "[encoded data removed]",
      "text/plain": [
       "Graphics object consisting of 1 graphics primitive"
      ]
     },
     "execution_count": 4,
     "metadata": {},
     "output_type": "execute_result"
    }
   ],
   "source": [
    "plot(toDb(h(f)), [f, 50, 10^5], scale=\"semilogx\", plot_points=1024, figsize=5)"
   ]
  },
  {
   "cell_type": "code",
   "execution_count": 5,
   "metadata": {
    "collapsed": false
   },
   "outputs": [
    {
     "data": {
      "image/png": "[encoded data removed]",
      "text/plain": [
       "Graphics object consisting of 1 graphics primitive"
      ]
     },
     "execution_count": 5,
     "metadata": {},
     "output_type": "execute_result"
    }
   ],
   "source": [
    "# プロットに少し時間がかかります。\n",
    "plot(toDeg(Phi(f)), [f, 50, 10^5], scale=\"semilogx\", plot_points=300, figsize=5)"
   ]
  },
  {
   "cell_type": "markdown",
   "metadata": {},
   "source": [
    "### フィルタ計算ツールとのクロスチェック\n",
    "以下のサイトのフィルタの伝達関数とのクロスチェックし、一致することを確認しました。\n",
    "- http://sim.okawa-denshi.jp/TwinTCRtool.php"
   ]
  },
  {
   "cell_type": "code",
   "execution_count": 6,
   "metadata": {
    "collapsed": false
   },
   "outputs": [
    {
     "data": {
      "text/html": [
       "<html><script type=\"math/tex; mode=display\">\\newcommand{\\Bold}[1]{\\mathbf{#1}}s \\ {\\mapsto}\\ \\frac{s^{3} + 2000 \\, s^{2} + 12000000 \\, s + 200000000000}{s^{3} + 114000 \\, s^{2} + 412000000 \\, s + 200000000000}</script></html>"
      ],
      "text/plain": [
       "s |--> (s^3 + 2000*s^2 + 12000000*s + 200000000000)/(s^3 + 114000*s^2 + 412000000*s + 200000000000)"
      ]
     },
     "metadata": {},
     "output_type": "display_data"
    }
   ],
   "source": [
    "vals = {R1: 10^4, R2: 10^4, R3:10^3, C1:10^-7, C2: 10^-8, C3:5*10^-8}\n",
    "\n",
    "hs(s) = H.subs(vals)\n",
    "show(hs)"
   ]
  },
  {
   "cell_type": "markdown",
   "metadata": {
    "collapsed": true
   },
   "source": [
    "## ツインT型ノッチフィルタの伝達関数の求め方\n",
    "昔の人はどうやってこんな複雑な伝達関数を計算できたのでしょう？\n",
    "\n",
    "Sageを使って、伝達関数の導出を確認してみましょう。\n",
    "\n",
    "以下のサイトを参考にしました。\n",
    "- [ツインＴノッチフィルタの解析](https://note.chiebukuro.yahoo.co.jp/detail/n327729?fr=pc_fb_share_n)\n",
    "\n",
    "<img src=\"images/B25/Fig1.png\" width=\"300\" />"
   ]
  },
  {
   "cell_type": "markdown",
   "metadata": {},
   "source": [
    "次に重ねの理を使って、Vo = Vo1 + Vo2に分解します。ここがポイントです。\n",
    "\n",
    "<img src=\"images/B25/Fig2.png\" width=300 />"
   ]
  },
  {
   "cell_type": "markdown",
   "metadata": {},
   "source": [
    "上部のVo1を以下のようにVT, ZT, ZAに整理します。\n",
    "\n",
    "<img src=\"images/B25/Fig3.png\" width=\"300\" />"
   ]
  },
  {
   "cell_type": "markdown",
   "metadata": {},
   "source": [
    "R1とC1の間の電圧は、テブナンの定理から以下のようになります。\n",
    "\n",
    "$$\n",
    "V_T = V_i \\frac{\\frac{1}{s C_1}}{R_1 + \\frac{1}{s C_1}}\n",
    "$$\n",
    "\n",
    "$$\n",
    "Z_T = R_2 + \\frac{\\frac{1}{s C_1}}{R_1 + \\frac{1}{s C_1}}\n",
    "$$\n",
    "\n",
    "$$\n",
    "Z_A = \\frac{1}{s C_3} + \\frac{\\frac{R_3}{s C_2}}{R_3 + \\frac{1}{s C_2}}\n",
    "$$"
   ]
  },
  {
   "cell_type": "markdown",
   "metadata": {},
   "source": [
    "これをSageで定義します。"
   ]
  },
  {
   "cell_type": "code",
   "execution_count": 7,
   "metadata": {
    "collapsed": false
   },
   "outputs": [
    {
     "data": {
      "text/html": [
       "<html><script type=\"math/tex; mode=display\">\\newcommand{\\Bold}[1]{\\mathbf{#1}}\\frac{\\mathit{Vi}}{C_{1} {\\left(R_{1} + \\frac{1}{C_{1} s}\\right)} s}</script></html>"
      ],
      "text/plain": [
       "Vi/(C1*(R1 + 1/(C1*s))*s)"
      ]
     },
     "metadata": {},
     "output_type": "display_data"
    },
    {
     "data": {
      "text/html": [
       "<html><script type=\"math/tex; mode=display\">\\newcommand{\\Bold}[1]{\\mathbf{#1}}R_{2} + \\frac{R_{1}}{C_{1} {\\left(R_{1} + \\frac{1}{C_{1} s}\\right)} s}</script></html>"
      ],
      "text/plain": [
       "R2 + R1/(C1*(R1 + 1/(C1*s))*s)"
      ]
     },
     "metadata": {},
     "output_type": "display_data"
    },
    {
     "data": {
      "text/html": [
       "<html><script type=\"math/tex; mode=display\">\\newcommand{\\Bold}[1]{\\mathbf{#1}}\\frac{1}{C_{3} s} + \\frac{R_{3}}{C_{2} {\\left(R_{3} + \\frac{1}{C_{2} s}\\right)} s}</script></html>"
      ],
      "text/plain": [
       "1/(C3*s) + R3/(C2*(R3 + 1/(C2*s))*s)"
      ]
     },
     "metadata": {},
     "output_type": "display_data"
    }
   ],
   "source": [
    "s, R1, R2, R3, C1, C2, C3 = var('s R1 R2 R3 C1 C2 C3')\n",
    "VT, Vi, Vo, Vo1, Vo2, ZT, ZA = var('VT Vi Vo Vo1 Vo2 ZT ZA')\n",
    "\n",
    "VT = Vi * (1/(s*C1)/(R1 + 1/(s*C1)))\n",
    "ZT = R2 + (R1/(s*C1))/(R1+1/(s*C1))\n",
    "ZA = 1/(s*C3) + (R3/(s*C2))/(R3 + 1/(s*C2))\n",
    "show(VT); show(ZT); show(ZA)"
   ]
  },
  {
   "cell_type": "markdown",
   "metadata": {},
   "source": [
    "Vo1は、VTをZTとZAで分圧しているので、以下のように求まります。"
   ]
  },
  {
   "cell_type": "code",
   "execution_count": 8,
   "metadata": {
    "collapsed": false
   },
   "outputs": [
    {
     "data": {
      "text/html": [
       "<html><script type=\"math/tex; mode=display\">\\newcommand{\\Bold}[1]{\\mathbf{#1}}\\frac{\\mathit{Vi} {\\left(\\frac{1}{C_{3} s} + \\frac{R_{3}}{C_{2} {\\left(R_{3} + \\frac{1}{C_{2} s}\\right)} s}\\right)}}{C_{1} {\\left(R_{1} + \\frac{1}{C_{1} s}\\right)} {\\left(R_{2} + \\frac{1}{C_{3} s} + \\frac{R_{1}}{C_{1} {\\left(R_{1} + \\frac{1}{C_{1} s}\\right)} s} + \\frac{R_{3}}{C_{2} {\\left(R_{3} + \\frac{1}{C_{2} s}\\right)} s}\\right)} s}</script></html>"
      ],
      "text/plain": [
       "Vi*(1/(C3*s) + R3/(C2*(R3 + 1/(C2*s))*s))/(C1*(R1 + 1/(C1*s))*(R2 + 1/(C3*s) + R1/(C1*(R1 + 1/(C1*s))*s) + R3/(C2*(R3 + 1/(C2*s))*s))*s)"
      ]
     },
     "metadata": {},
     "output_type": "display_data"
    }
   ],
   "source": [
    "Vo1 = VT*ZA/(ZT+ZA)\n",
    "show(Vo1)"
   ]
  },
  {
   "cell_type": "markdown",
   "metadata": {},
   "source": [
    "Vo2は、vo1に以下の置換をすると求まります。\n",
    "\n",
    "$$\n",
    "R1 → 1/sC2, R2 → 1/sC3, R3 → 1/sC1\n",
    "$$\n",
    "\n",
    "$$\n",
    "C1 → 1/sR3, C2 → 1/sR1, C3→ 1/sR2\n",
    "$$"
   ]
  },
  {
   "cell_type": "code",
   "execution_count": 9,
   "metadata": {
    "collapsed": false
   },
   "outputs": [
    {
     "data": {
      "text/html": [
       "<html><script type=\"math/tex; mode=display\">\\newcommand{\\Bold}[1]{\\mathbf{#1}}\\frac{{\\left(R_{22} + \\frac{R_{11}}{C_{11} {\\left(R_{11} + \\frac{1}{C_{11} s}\\right)} s}\\right)} R_{33} \\mathit{Vi}}{{\\left(R_{22} + \\frac{1}{C_{33} s} + \\frac{R_{11}}{C_{11} {\\left(R_{11} + \\frac{1}{C_{11} s}\\right)} s} + \\frac{R_{33}}{C_{22} {\\left(R_{33} + \\frac{1}{C_{22} s}\\right)} s}\\right)} {\\left(R_{33} + \\frac{1}{C_{22} s}\\right)}}</script></html>"
      ],
      "text/plain": [
       "(R22 + R11/(C11*(R11 + 1/(C11*s))*s))*R33*Vi/((R22 + 1/(C33*s) + R11/(C11*(R11 + 1/(C11*s))*s) + R33/(C22*(R33 + 1/(C22*s))*s))*(R33 + 1/(C22*s)))"
      ]
     },
     "metadata": {},
     "output_type": "display_data"
    },
    {
     "data": {
      "text/html": [
       "<html><script type=\"math/tex; mode=display\">\\newcommand{\\Bold}[1]{\\mathbf{#1}}\\frac{{\\left(R_{2} + \\frac{R_{1}}{C_{1} {\\left(R_{1} + \\frac{1}{C_{1} s}\\right)} s}\\right)} R_{3} \\mathit{Vi}}{{\\left(R_{2} + \\frac{1}{C_{3} s} + \\frac{R_{1}}{C_{1} {\\left(R_{1} + \\frac{1}{C_{1} s}\\right)} s} + \\frac{R_{3}}{C_{2} {\\left(R_{3} + \\frac{1}{C_{2} s}\\right)} s}\\right)} {\\left(R_{3} + \\frac{1}{C_{2} s}\\right)}}</script></html>"
      ],
      "text/plain": [
       "(R2 + R1/(C1*(R1 + 1/(C1*s))*s))*R3*Vi/((R2 + 1/(C3*s) + R1/(C1*(R1 + 1/(C1*s))*s) + R3/(C2*(R3 + 1/(C2*s))*s))*(R3 + 1/(C2*s)))"
      ]
     },
     "metadata": {},
     "output_type": "display_data"
    }
   ],
   "source": [
    "# 循環変換を避けるため、一旦R11, R22, R33, C11, C22, C33で置換\n",
    "R11, R22, R33, C11, C22, C33 = var('R11 R22 R33 C11 C22 C33')\n",
    "rel1= {R1: 1/(s*C22), R2: 1/(s*C33), R3: 1/(s*C11), C1: 1/(s*R33), C2: 1/(s*R11), C3 : 1/(s*R22)}\n",
    "Vo2 = Vo1.subs(rel1)\n",
    "show(Vo2)\n",
    "# R1, R2, R3, C1, C2, C3に戻す\n",
    "rel2 = {R11: R1, R22: R2, R33: R3, C11: C1, C22: C2, C33:C3}\n",
    "Vo2 = Vo2.subs(rel2)\n",
    "show(Vo2)"
   ]
  },
  {
   "cell_type": "markdown",
   "metadata": {},
   "source": [
    "重ね合わせの理より、Voは、Vo1+Vo2で求まります。"
   ]
  },
  {
   "cell_type": "code",
   "execution_count": 10,
   "metadata": {
    "collapsed": false
   },
   "outputs": [
    {
     "data": {
      "text/html": [
       "<html><script type=\"math/tex; mode=display\">\\newcommand{\\Bold}[1]{\\mathbf{#1}}\\frac{{\\left(R_{2} + \\frac{R_{1}}{C_{1} {\\left(R_{1} + \\frac{1}{C_{1} s}\\right)} s}\\right)} R_{3} \\mathit{Vi}}{{\\left(R_{2} + \\frac{1}{C_{3} s} + \\frac{R_{1}}{C_{1} {\\left(R_{1} + \\frac{1}{C_{1} s}\\right)} s} + \\frac{R_{3}}{C_{2} {\\left(R_{3} + \\frac{1}{C_{2} s}\\right)} s}\\right)} {\\left(R_{3} + \\frac{1}{C_{2} s}\\right)}} + \\frac{\\mathit{Vi} {\\left(\\frac{1}{C_{3} s} + \\frac{R_{3}}{C_{2} {\\left(R_{3} + \\frac{1}{C_{2} s}\\right)} s}\\right)}}{C_{1} {\\left(R_{1} + \\frac{1}{C_{1} s}\\right)} {\\left(R_{2} + \\frac{1}{C_{3} s} + \\frac{R_{1}}{C_{1} {\\left(R_{1} + \\frac{1}{C_{1} s}\\right)} s} + \\frac{R_{3}}{C_{2} {\\left(R_{3} + \\frac{1}{C_{2} s}\\right)} s}\\right)} s}</script></html>"
      ],
      "text/plain": [
       "(R2 + R1/(C1*(R1 + 1/(C1*s))*s))*R3*Vi/((R2 + 1/(C3*s) + R1/(C1*(R1 + 1/(C1*s))*s) + R3/(C2*(R3 + 1/(C2*s))*s))*(R3 + 1/(C2*s))) + Vi*(1/(C3*s) + R3/(C2*(R3 + 1/(C2*s))*s))/(C1*(R1 + 1/(C1*s))*(R2 + 1/(C3*s) + R1/(C1*(R1 + 1/(C1*s))*s) + R3/(C2*(R3 + 1/(C2*s))*s))*s)"
      ]
     },
     "metadata": {},
     "output_type": "display_data"
    }
   ],
   "source": [
    "Vo = Vo1 + Vo2\n",
    "show(Vo)"
   ]
  },
  {
   "cell_type": "markdown",
   "metadata": {},
   "source": [
    "伝達関数 $H(s) = \\frac{V_o}{V_i}$を求めると、以下のようになります。"
   ]
  },
  {
   "cell_type": "code",
   "execution_count": 11,
   "metadata": {
    "collapsed": false
   },
   "outputs": [
    {
     "data": {
      "text/html": [
       "<html><script type=\"math/tex; mode=display\">\\newcommand{\\Bold}[1]{\\mathbf{#1}}\\frac{\\frac{{\\left(R_{2} + \\frac{R_{1}}{C_{1} {\\left(R_{1} + \\frac{1}{C_{1} s}\\right)} s}\\right)} R_{3} \\mathit{Vi}}{{\\left(R_{2} + \\frac{1}{C_{3} s} + \\frac{R_{1}}{C_{1} {\\left(R_{1} + \\frac{1}{C_{1} s}\\right)} s} + \\frac{R_{3}}{C_{2} {\\left(R_{3} + \\frac{1}{C_{2} s}\\right)} s}\\right)} {\\left(R_{3} + \\frac{1}{C_{2} s}\\right)}} + \\frac{\\mathit{Vi} {\\left(\\frac{1}{C_{3} s} + \\frac{R_{3}}{C_{2} {\\left(R_{3} + \\frac{1}{C_{2} s}\\right)} s}\\right)}}{C_{1} {\\left(R_{1} + \\frac{1}{C_{1} s}\\right)} {\\left(R_{2} + \\frac{1}{C_{3} s} + \\frac{R_{1}}{C_{1} {\\left(R_{1} + \\frac{1}{C_{1} s}\\right)} s} + \\frac{R_{3}}{C_{2} {\\left(R_{3} + \\frac{1}{C_{2} s}\\right)} s}\\right)} s}}{\\mathit{Vi}}</script></html>"
      ],
      "text/plain": [
       "((R2 + R1/(C1*(R1 + 1/(C1*s))*s))*R3*Vi/((R2 + 1/(C3*s) + R1/(C1*(R1 + 1/(C1*s))*s) + R3/(C2*(R3 + 1/(C2*s))*s))*(R3 + 1/(C2*s))) + Vi*(1/(C3*s) + R3/(C2*(R3 + 1/(C2*s))*s))/(C1*(R1 + 1/(C1*s))*(R2 + 1/(C3*s) + R1/(C1*(R1 + 1/(C1*s))*s) + R3/(C2*(R3 + 1/(C2*s))*s))*s))/Vi"
      ]
     },
     "metadata": {},
     "output_type": "display_data"
    }
   ],
   "source": [
    "h_hat = Vo/Vi\n",
    "show(h_hat)"
   ]
  },
  {
   "cell_type": "markdown",
   "metadata": {},
   "source": [
    "h_hatに抵抗、コンデンサーの値を代入し、式を整理すると求める伝達関数となります。"
   ]
  },
  {
   "cell_type": "code",
   "execution_count": 12,
   "metadata": {
    "collapsed": false
   },
   "outputs": [
    {
     "data": {
      "text/html": [
       "<html><script type=\"math/tex; mode=display\">\\newcommand{\\Bold}[1]{\\mathbf{#1}}\\frac{s^{3} + 2000 \\, s^{2} + 12000000 \\, s + 200000000000}{s^{3} + 114000 \\, s^{2} + 412000000 \\, s + 200000000000}</script></html>"
      ],
      "text/plain": [
       "(s^3 + 2000*s^2 + 12000000*s + 200000000000)/(s^3 + 114000*s^2 + 412000000*s + 200000000000)"
      ]
     },
     "metadata": {},
     "output_type": "display_data"
    }
   ],
   "source": [
    "show(h_hat.subs(vals).simplify_full())"
   ]
  },
  {
   "cell_type": "markdown",
   "metadata": {
    "collapsed": true
   },
   "source": [
    "このようにSageを使うと式のまま計算を進め、グラフの表示や値の計算ができます。"
   ]
  },
  {
   "cell_type": "code",
   "execution_count": null,
   "metadata": {
    "collapsed": true
   },
   "outputs": [],
   "source": []
  }
 ],
 "metadata": {
  "kernelspec": {
   "display_name": "SageMath 7.5.1",
   "language": "",
   "name": "sagemath"
  },
  "language_info": {
   "codemirror_mode": {
    "name": "ipython",
    "version": 2
   },
   "file_extension": ".py",
   "mimetype": "text/x-python",
   "name": "python",
   "nbconvert_exporter": "python",
   "pygments_lexer": "ipython2",
   "version": "2.7.13"
  }
 },
 "nbformat": 4,
 "nbformat_minor": 2
}
