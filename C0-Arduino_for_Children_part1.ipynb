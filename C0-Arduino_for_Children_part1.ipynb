{
 "cells": [
  {
   "cell_type": "markdown",
   "metadata": {},
   "source": [
    "オリジナルの作成：2015/06/06"
   ]
  },
  {
   "cell_type": "markdown",
   "metadata": {},
   "source": [
    "# C0-子供のためのArduinoその１\n",
    "## Scratch\n",
    "Scratchは、子供でもプログラムを楽しめるプログラム言語です。MITのメディアラボで開発されました。\n",
    "\n",
    "TEDで行われたScratchの紹介です。\n",
    "\n",
    "- http://www.ted.com/talks/mitch_resnick_let_s_teach_kids_to_code?language=ja\n",
    "\n",
    "今回は、ArduinoでScratch風のプログラムを体験できる以下の２つのフリーソフトを紹介します。\n",
    "\n",
    "- S4A:\n",
    "- AduBlock:\n",
    "\n",
    "## S4A\n",
    "S4AはScratchの派生で、Arduinoのプログラムが簡単にできるようにしたものです。\n",
    "\n",
    "- http://s4a.cat/\n",
    "\n",
    "<img src=\"images/C0/shot01.png\" width=\"500\" />\n",
    "\n",
    "\n",
    "### S4Aのインストール\n",
    "以下にMacとWindowsのダウンロードリンクを示します。\n",
    "\n",
    "- [Windows](http://vps34736.ovh.net/S4A/S4A16.zip)\n",
    "- [Mac](http://vps34736.ovh.net/S4A/S4A16.dmg)\n",
    "\n",
    "S4Aをアプリケーションフォルダーにコピーします。 Macの場合には、S4A16.dmgをダブルクリックし、S4AアイコンをApplicationsフォルダーにドラッグします。\n",
    "\n",
    "<img src=\"images/C0/install_S4A.png\" width=\"400\" />\n",
    "\n",
    "S4Aを動かすには、Arduinoにファームウェアと呼ばれるソフトのインストールが必要です。 以下のZIPファイルをダウンロードし、展開してArduinoのプロジェクトファイルが あるディレクトリ（Macなら書類/Arduino）に入れてください。\n",
    "\n",
    "次にArduino IDEを起動して、S4AFirmware16をお手持ちのArduinoに書き込んでください。\n",
    "\n",
    "- [S4AFirmware16.zip](data/S4AFirmware16.zip)\n",
    "\n",
    "### ブレッドボードの配線\n",
    "Arduinoとブレッドボードで以下の様に配線をします。\n",
    "\n",
    "タクトスイッチは、足の出ている部分を上下に差します\n",
    "抵抗は10KΩを使います\n",
    "\n",
    "<img src=\"images/C0/Example_Btn_LED.png\" width=\"500\" />"
   ]
  },
  {
   "cell_type": "markdown",
   "metadata": {},
   "source": [
    "### S4Aを起動\n",
    "S4Aを起動し、button_led.sbを読み込みます。\n",
    "\n",
    "S4AのサイトのButton and LEDのサンプルコード（button_led.sb）は、SensorのDigitalピン番号が間違っているので、以下のファイルを使ってください。あるいは、手でサンプルスクリプトのように直してください。\n",
    "\n",
    "- [button_led.sb](data/button_led.sb)\n",
    "\n",
    "スクリプトタグには、以下の様なスクリプトが表示されます。\n",
    "\n",
    "<img src=\"images/C0/S4A_script.png\" width=\"400\" />\n",
    "\n",
    "次にbutton_ledの枠の緑の旗をクリックするとスクリプトが動き出します。 タクトスイッチを押すとLEDが点灯し、離すとLEDが消えます。 注意深く見るとタクトスイッチを押したときにDigital2がfalseからtrueに変わるのが分かります。\n",
    "\n",
    "<img src=\"images/C0/S4A_Arduino.png\" width=\"300\" />\n",
    "\n",
    "実際にS4Aを動かしているところ\n",
    "\n",
    "<img src=\"images/C0/th_Run_Example_Btn_LED.jpg\" width=\"300\" />"
   ]
  },
  {
   "cell_type": "markdown",
   "metadata": {},
   "source": [
    "## ArduBlock\n",
    "S4AはパソコンでS4Aを動かさないとArduinoが動かないのに対して、 ArduBlockは通常のArduinoのスケッチと同様に、Aduino単独で動かすことができます。\n",
    "\n",
    "\n",
    "### ArduBlockのインストール\n",
    "以下のURLのDOWNLOAD Ardublockをクリックして、ardublock-all-xxxxxx.jarをダウンロードします。\n",
    "\n",
    "- http://blog.ardublock.com/engetting-started-ardublockzhardublock/\n",
    "\n",
    "ユーザのスケッチの置き場（Macならユーザの書類/Arduino）にtools/ArduBlockTool/toolのディレクトリを 作成し、そこにardublock-all-xxxxxx.jarを入れます。\n",
    "\n",
    "次にArduino IDEを起動すると、ツールメニューにArduBlockが追加されています。\n",
    "\n",
    "<img src=\"images/C0/Tool_menu.png\" width=\"200\" />\n",
    "\n",
    "次にArduBLockを選択すると以下の様な画面になります。\n",
    "\n",
    "<img src=\"images/C0/ArduBlock_Win.png\" width=\"400\" />\n",
    "\n",
    "S4Aのサンプルと同じ例題をArduBlockで作った例arduBlk_Button_LED.abpを読み込みます。\n",
    "\n",
    "- [arduBlk_Button_LED.abp](data/arduBlk_Button_LED.abp)\n",
    "\n",
    "以下の様なスクリプトが表示されます。\n",
    "\n",
    "<img src=\"images/C0/ArduBlk_script.png\" width=\"400\" />\n",
    "\n",
    "次に「アップロード」ボタンを押すと、スクリプトがArduinoに書き込まれます。 個人的には、S4AよりもArduBlockの方が簡単だと思います。"
   ]
  },
  {
   "cell_type": "code",
   "execution_count": null,
   "metadata": {
    "collapsed": true
   },
   "outputs": [],
   "source": []
  }
 ],
 "metadata": {
  "kernelspec": {
   "display_name": "Python 2",
   "language": "python",
   "name": "python2"
  },
  "language_info": {
   "codemirror_mode": {
    "name": "ipython",
    "version": 2
   },
   "file_extension": ".py",
   "mimetype": "text/x-python",
   "name": "python",
   "nbconvert_exporter": "python",
   "pygments_lexer": "ipython2",
   "version": "2.7.13"
  }
 },
 "nbformat": 4,
 "nbformat_minor": 0
}
