{
 "cells": [
  {
   "cell_type": "markdown",
   "metadata": {},
   "source": [
    "# Arduinoで電子工作を楽しもう\n",
    "このページではNAT(ネットワーク・アシスト・たかおか)のArduino勉強会や私の趣味の電子工作を紹介します。\n",
    "\n",
    "最初に、Vagrantの仮想マシンに起動したSageのjupyterでArduinoのスケッチを動かす方法をご紹介します。\n",
    "\n",
    "## jupyterノートでArduinoのスケッチをうごかす\n",
    "### Arduino開発環境の構築\n",
    "最初にvagrantでArduinoの環境を利用できるようにします。\n",
    "\n",
    "以下のパッケージを追加します。\n",
    "- arduino: Arduino IDE\n",
    "- picocom: シリアル通信プログラム\n",
    "- ino: コマンドラインでArduinoのプログラミングをするツール\n",
    "\n",
    "vagrantのMySageMathのインストールされているディレクトリに移動し、\n",
    "以下のコマンドでSageサーバにパッケージをインストールします。\n",
    "（$プロンプトのコマンドのみ入力してください）\n",
    "\n",
    "``` bash\n",
    "$ vagrant ssh\n",
    "Welcome to Ubuntu 14.04.4 LTS (GNU/Linux 3.13.0-86-generic x86_64)\n",
    "途中省略\n",
    "vagrant:~$ sudo apt-get -y install arduino picocom\n",
    "Reading package lists... Done\n",
    "Building dependency tree       \n",
    "インストール経過が出力されます。（途中省略）\n",
    "0 upgraded, 0 newly installed, 0 to remove and 100 not upgraded.\n",
    "#dialout groupにvagrantを追加し、シリアルデバイスを使用可能にします\n",
    "vagrant:~$ usermod -aG dialout vagrant\n",
    "#Sageのpythonにinoをインストールします。\n",
    "vagrant:~$ sudo sage -sh\n",
    "(sage-sh) root:~$ pip install ino\n",
    "(sage-sh) root:~$ exit\n",
    "vagrant:~$ exit\n",
    "$ \n",
    "```\n",
    "\n",
    "### VirtualBoxでシリアルポートの設定\n",
    "最初にホストマシンにArduinoを接続したときに使用されるポートを調べます。\n",
    "ホストのArduino IDEを起動し、「ツール」→「ポート」でシリアルポートのデバイス名が分かります。\n",
    "\n",
    "これをメモしてください（私の場合「/dev/cu.usbserial-A7006T8Y」でした）。\n",
    "\n",
    "次にVirtualBoxのゲストマシンでホストのシリアルポートが使えるようにOracle VM VirtualBoxマネージャ\n",
    "でMySageMathの設定を変更します。\n",
    "\n",
    "「ポート」アイコンをクリックし、「シリアルポート」タグを選択します。\n",
    "ポート１とポート２の2個のシリアルポートが使えますが、\n",
    "Ubuntuではシリアルポート１をコンソールとして使用しているため、シリアルポート２を使用します。\n",
    "\n",
    "以下の図を参考に以下の項目をセットしてください。\n",
    "- ポート２タブを選択\n",
    "- 「シリアルポートを有効化」にチェック\n",
    "- 「ポートモード」で「ホストデバイス」を選択\n",
    "- 「ポート/ファイルパス」にメモしたデバイス名を入力\n",
    "\n",
    "![Serial port setting](images/serial_setting.png)\n",
    "\n",
    "最後にvagrant upでSageサーバを起動してください。"
   ]
  },
  {
   "cell_type": "markdown",
   "metadata": {
    "collapsed": true
   },
   "source": [
    "## HelloWorldに挑戦\n",
    "準備が整ったので、新しいjupyterノートを作成して、最初のスケッチを作成してみましょう。\n",
    "\n",
    "組み込みの世界のHelloWorldといったらLEDを点滅させるLチカです。\n",
    "以下のノートに従ってLチカに挑戦してください。\n",
    "\n",
    "- [HelloWorld](HelloWorld.ipynb)"
   ]
  },
  {
   "cell_type": "code",
   "execution_count": null,
   "metadata": {
    "collapsed": true
   },
   "outputs": [],
   "source": []
  }
 ],
 "metadata": {
  "kernelspec": {
   "display_name": "SageMath 7.2",
   "language": "",
   "name": "sagemath"
  },
  "language_info": {
   "codemirror_mode": {
    "name": "ipython",
    "version": 2
   },
   "file_extension": ".py",
   "mimetype": "text/x-python",
   "name": "python",
   "nbconvert_exporter": "python",
   "pygments_lexer": "ipython2",
   "version": "2.7.10"
  }
 },
 "nbformat": 4,
 "nbformat_minor": 0
}
