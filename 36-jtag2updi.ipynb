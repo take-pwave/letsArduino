{
 "metadata": {
  "language_info": {
   "codemirror_mode": {
    "name": "ipython",
    "version": 3
   },
   "file_extension": ".py",
   "mimetype": "text/x-python",
   "name": "python",
   "nbconvert_exporter": "python",
   "pygments_lexer": "ipython3",
   "version": 3
  },
  "orig_nbformat": 2
 },
 "nbformat": 4,
 "nbformat_minor": 2,
 "cells": [
  {
   "source": [
    "## jtag2updiで最新のATtiny202を使う\n",
    "ATtiny13Aに代わる８ピンCPUのATtiny202(40円)をArduino IDEでスケッチを書き込めるようにjtag2updi搭載ブレッドボードを作ります。\n",
    "\n",
    "<img src=\"images/36/jtag2updi_bbd.png\" width=\"450\" />\n",
    "\n",
    "スケッチの書き込みには、１枚のブレッドボードに収まるArduino Nano（写真左）を使用しました。\n",
    "右には、SOP8のピッチ変換変換基板(P-05154)に載せたATtiny202とLチカ用のLED,抵抗を接続しています。\n",
    "\n",
    "\n"
   ],
   "cell_type": "markdown",
   "metadata": {}
  },
  {
   "source": [
    "### Arduino Nanoのjtag2updi化\n",
    "Arduino Nanoをjtag2updiの書き込み器にするには、以下のサイトからスケッチをダウンロードして、Arduino Nanoに書き込んでください。\n",
    "- https://github.com/SpenceKonde/jtag2updi\n",
    "\n",
    "Arduino NanoとATtiny202の接続は、上記サイトの以下の配線図を参考にしました。\n",
    "```\n",
    "                                            V_prog                 V_target\n",
    "                                              +-+                     +-+\n",
    "                                               |                       |\n",
    " +----------+          +---------------------+ |                       | +--------------------+\n",
    " | PC       |          | Programmer          +-+                       +-+  Target            |\n",
    " | avrdude  |          |                     |      +----------+         |                    |\n",
    " |       TX +----------+ RX              PD6 +------+   4k7    +---------+ UPDI               |\n",
    " |          |          |                     |      +----------+         |                    |\n",
    " |       RX +----------+ TX                  |                           |                    |\n",
    " |          |          |                     |                           |                    |\n",
    " |          |          |                     |                           |                    |\n",
    " |          |          |                     +--+                     +--+                    |\n",
    " +----------+          +---------------------+  |                     |  +--------------------+\n",
    "             JTAGICE MkII                      +-+     UPDI          +-+\n",
    "             Protocol                          GND     Protocol      GND\n",
    "\n",
    "```\n",
    "\n"
   ],
   "cell_type": "markdown",
   "metadata": {}
  },
  {
   "source": [
    "### Arduino IDEの設定\n",
    "Arduino IDEでjtag2updiを使うには、Arduinoメニュー「ツール」>「ボード:」>「ボードマネージャ...」を選択し、ボードマネージャ画面を開き、検索フィールドに「megaTinyCore」と入力するとmegaTinyCoreが検索されます。最新のバージョンを選択し、「インストール」ボタンを押下してください。\n",
    "\n",
    "<img src=\"images/36/board_manager.png\" width=\"500\" />\n",
    "\n",
    "### スケッチの書き込み\n",
    "例題からBlinkを開いて、ボードに「ATtiny412/402/212/202」を選択し、Chip or Board: 「ATtiney2020」を選択、Clockに「20 MHz internal」、書込装置に「jtag2updi」、シリアルポートにArduino Nanoのシリアルをセットして、アップロードを実行してください。\n",
    "\n",
    "<img src=\"images/36/board_setting.png\" width=\"500\" />\n"
   ],
   "cell_type": "markdown",
   "metadata": {}
  },
  {
   "source": [
    "### ATtinyのポート番号\n",
    "ATtiny2020のピンとArduinoの指定番号と機能を以下に示します。\n",
    "\n",
    "ArduinoのLED_BUILTINは、３番ピンの1です。\n",
    "\n",
    "| Pin | Digital | Analog | Function |\n",
    "|:--:|:--:|:--:|:--|\n",
    "| 1 | - | - | VCC |\n",
    "| 2 | 0 | A6 | TXD |\n",
    "| 3 | 1 | A7 | RXD/LED_BUILTIN |\n",
    "| 4 | 2 | A1 | SDA/MOSI |\n",
    "| 5 | 3 | A2 | SCL/MISO |\n",
    "| 6 | 5 | A0 | SS |\n",
    "| 7 | 4 | A3 | SCK |\n",
    "| 8 | - | - | GND |\n",
    "\n",
    "ピン配置の図を以下から引用します。\n",
    "- https://miraluna.hatenablog.com/entry/tiny202_shield\n",
    "\n",
    "\n",
    "<img src=\"images/36/20210207173044.png\" />"
   ],
   "cell_type": "markdown",
   "metadata": {}
  },
  {
   "source": [
    "## 参考サイト\n",
    "kosakalabは、古くからAVRの情報を発信されているサイトで、その情報も確かです。\n",
    "- https://make.kosakalab.com/make/electronic-work/arduino-ide/attiny202-dev/\n",
    "\n",
    "日本語のデータシート\n",
    "- https://avr.jp/user/DS/PDF/tiny402.pdf\n",
    "\n",
    "アプリケーションノート\n",
    "- https://www.microchip.com/wwwproducts/en/ATTINY202#datasheet-toggle"
   ],
   "cell_type": "markdown",
   "metadata": {}
  },
  {
   "cell_type": "code",
   "execution_count": null,
   "metadata": {},
   "outputs": [],
   "source": []
  }
 ]
}