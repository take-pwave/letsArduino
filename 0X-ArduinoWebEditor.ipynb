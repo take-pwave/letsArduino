{
 "cells": [
  {
   "cell_type": "markdown",
   "metadata": {},
   "source": [
    "## ArduinoのWebEditorの紹介\n",
    "ArduinoのプログラミングがWebブラウザ上でできるArduino Web Editorを紹介します。\n",
    "\n",
    "Arduino Web Editorを使うには、以下のサイトにアクセスすると以下の画面が表示されます。\n",
    "- https://create.arduino.cc/\n",
    "\n",
    "<img src=\"images/0X/Create_landing.jpg\" width=400/>\n",
    "\n",
    "「Arduino Web Editor」をクリックすると以下のユーザ登録（Sign Up）画面が表示されます。\n",
    "\n",
    "<img src=\"images/0X/Create_signup.jpg\" width=400/>\n",
    "\n",
    "- Username: 自分の好きなユーザ名（アルファベットと半角数字）で入力\n",
    "- Password: パスワードを入力\n",
    "- Confirm Password: 確認のために同じパスワードを入力\n",
    "- Email Address: メールアドレスを入力\n",
    "- I'm not a robotの左の□にチェック\n",
    "- 「CREATE ACCOUNT」をクリックします\n",
    "\n",
    "入力したメールアドレスに送られてきますので、リンク（URLアドレス）をクリックして登録を有効にします。\n"
   ]
  },
  {
   "cell_type": "markdown",
   "metadata": {},
   "source": [
    "### Arduino Web Editor pluginのインストール\n",
    "ユーザ登録が完了したら、以下のURLに入ってください。\n",
    "- https://create.arduino.cc/editor\n",
    "\n",
    "利用条件を受け入れ（Accept）ます。\n",
    "\n",
    "次にスケッチをArduinoに書き込むために、Arduino Web Editor Pluginをインストールします。\n",
    "\n",
    "<img src=\"images/0X/Create_plugin.jpg\" width=400/>\n",
    "\n",
    "\n"
   ]
  },
  {
   "cell_type": "markdown",
   "metadata": {},
   "source": [
    "## Arduino Web Editorを使ってみる\n",
    "ログインが完了すると以下のArduino Web Editor画面が表示されます。\n",
    "\n",
    "左端のカラムはナビゲーション用です。\n",
    "- Your Sketchbook: ユーザが作成したスケッチブックを開きます\n",
    "- Examples: サンプルスケッチ（読み込み専用）を開きます\n",
    "- Libraries: スケッチ含むライブラリを指定します\n",
    "- Serial monitor: シリアルモニタを開きます\n",
    "- Help: ヘルプ画面（英語）\n",
    "- Preferences: オプション（文字サイズ、色等）の設定画面\n",
    "\n",
    "上記のメニューを選択すると2列目のカラムに選択画面が表示されます。\n",
    "\n",
    "第3列目にスケッチを描く画面が表示されます。\n",
    "\n",
    "<img src=\"images/0X/Create_columns.jpg\" width=400/>\n"
   ]
  },
  {
   "cell_type": "markdown",
   "metadata": {},
   "source": [
    "## 内蔵Lチカ\n",
    "内蔵のLEDを点滅させるLチカを作って見ました。\n",
    "\n",
    "自分の作ったスケッチで「SHARE」ボタンを押すと、他の人と共有するためのURLが表示されます。\n",
    "これを開くと以下の様な画面が表示されます。"
   ]
  },
  {
   "cell_type": "code",
   "execution_count": 1,
   "metadata": {
    "collapsed": false
   },
   "outputs": [
    {
     "data": {
      "text/html": [
       "<iframe src=\"https://create.arduino.cc/editor/takepwave/66734154-6cce-4de7-96a1-1202ac1f8d29/preview?embed\" style=\"height:510px;width:100%;margin:10px 0\" frameborder=\"0\"></iframe>"
      ],
      "text/plain": [
       "<IPython.core.display.HTML object>"
      ]
     },
     "metadata": {},
     "output_type": "display_data"
    }
   ],
   "source": [
    "%%HTML\n",
    "<iframe src=\"https://create.arduino.cc/editor/takepwave/66734154-6cce-4de7-96a1-1202ac1f8d29/preview?embed\" style=\"height:510px;width:100%;margin:10px 0\" frameborder=\"0\"></iframe>"
   ]
  },
  {
   "cell_type": "code",
   "execution_count": null,
   "metadata": {
    "collapsed": true
   },
   "outputs": [],
   "source": []
  }
 ],
 "metadata": {
  "kernelspec": {
   "display_name": "SageMath 7.5.1",
   "language": "",
   "name": "sagemath"
  },
  "language_info": {
   "codemirror_mode": {
    "name": "ipython",
    "version": 2
   },
   "file_extension": ".py",
   "mimetype": "text/x-python",
   "name": "python",
   "nbconvert_exporter": "python",
   "pygments_lexer": "ipython2",
   "version": "2.7.13"
  }
 },
 "nbformat": 4,
 "nbformat_minor": 0
}
