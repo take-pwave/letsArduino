{
 "cells": [
  {
   "cell_type": "markdown",
   "metadata": {},
   "source": [
    "# ARMマイコンでつくるダイレクト・サンプリングSDRを試す\n",
    "トラ技2021/01から2021/05で連載されていた「ARMマイコンでつくるダイレクト・サンプリングSDR」(以下ARM-SDRと略す)を実際につくって試しみます。\n",
    "\n",
    "記事を参考に作ったARM-SDRです。\n",
    "\n",
    "<img src=\"images/J3/ARM-SDR.png\" width=\"400\" />\n",
    "\n",
    "## トラ技2021/01のおさらい\n",
    "\n",
    "ブレッドボードの配線をトラ技2021/01の図３から引用します。\n",
    "\n",
    "<img src=\"images/J3/Fig-3.png\" width=\"400\" />\n",
    "\n",
    "### NUCLIEO-F446REのアプリ\n",
    "NUCLIEO-F446REのアプリは、mbedのサイトで公開されています。「SDR」で検索すると「SDR_AM_Rx_CIC_FIR」のプロジェクトが見つかりました。\n",
    "\n",
    "富山の放送局に合わせてmain.cppのF_C_配列を以下のように修正しました。\n",
    "```C++\n",
    "// 各放送局の搬送波の周波数，単位： Hz\n",
    "const float F_C_[] = {  648.0e3f,   // NHK 第１\n",
    "                        738.0e3f,   // 北日本放送\n",
    "                        954.0e3f,   // TBS ラジオ\n",
    "                       1035.0e3f,   // NHK 第２                        \n",
    "                       1134.0e3f,   // 文化放送\n",
    "                       1242.0e3f,   // ニッポン放送\n",
    "                       1422.0e3f};  // ラジオ日本\n",
    "```\n",
    "\n",
    "### ARMでダイレクト・サンプリングができた理由\n",
    "コラム１にも書いてありますが、NUCLIEO-F446REに搭載されているSTM32F446REは、フラッシュ・メモリのプログラムをノーウェイトでアクセスできることが大きいです。他のCPUで試す場合には、CPUクロックの他にフラッシュ・メモリのアクセス時間にも注意必要です。\n"
   ]
  },
  {
   "cell_type": "markdown",
   "metadata": {},
   "source": [
    "## RFフロントエンドについて\n",
    "ここでの目的は、コラム２にあるAM受信機用アンプとバンドパスフィルタの総合周波数特性を求めることです。\n",
    "\n",
    "RFフロントエンドの回路をトラ技2021/01の図２から引用します(ハイパス・フィルター、バンドパス・フィルターの値は筆者が付記))。\n",
    "\n",
    "<img src=\"images/J3/Fig-2.png\" width=\"500\" />\n",
    "\n",
    "コラム２では、周波数特性を以下のように求めたそうです。\n",
    "- OPアンプの周波数1MHzのオープン・ループ・ゲインが30dB, ゲインの減衰率が20dB/dec\n",
    "- バンドパスフィルタの周波数特性は、４端子回路のF行列の縦続接続の関係を使用\n",
    "\n"
   ]
  },
  {
   "cell_type": "markdown",
   "metadata": {},
   "source": [
    "OPアンプの増幅は、R1=1kΩ、R3=4.7kΩの非反転増幅とすると、\n",
    "$$\n",
    "G = \\frac{V_{out}}{V_{in}} = \\frac{R_1 + R_3}{R_1} = 5.7倍 \\simeq 15dB\n",
    "$$\n",
    "\n",
    "NJU77701のデータシートの利得/位相 対 周波数 特性例を引用します。\n",
    "この図から20dB/decの減衰率が求まります。\n",
    "\n",
    "<img src=\"images/J3/NJU77701_Gain.png\" width=\"400\" />"
   ]
  },
  {
   "cell_type": "markdown",
   "metadata": {},
   "source": [
    "### ４端子行列（F行列）\n",
    "できるだけ覚えることを少なくして、特性を求めることを考えてみましょう。\n",
    "\n",
    "抵抗R、コンデンサーC、コイルLのインピーダンスは、$ Z_R = R, Z_C = \\frac{1}{sC}, Z_L = sL $となります。\n",
    "\n",
    "以下のような$ Z_1, Z_2 $の直列と並列のインピーダンスの回路について考えます(トラ技2013/8月号付録p26から引用)。\n",
    "\n",
    "<img src=\"images/J3/F-Matrix.png\" width=\"300\" />\n",
    "\n",
    "この場合のF行列は、直列、並列のインピーダンスを表す２つのマトリックスの積で表すことができます。\n",
    "\n",
    "$$\n",
    "\\begin{bmatrix}\n",
    "    V_1 \\\\\n",
    "    i_1\n",
    "\\end{bmatrix} = \n",
    "\\underbrace{\n",
    "    \\begin{bmatrix}\n",
    "        1 & Z_i \\\\\n",
    "        0 & 1\n",
    "    \\end{bmatrix}\n",
    "}_{直列インピーダンス}\n",
    "\\underbrace{\n",
    "    \\begin{bmatrix}\n",
    "        1 & 0 \\\\\n",
    "        1/Z_2 & 1\n",
    "    \\end{bmatrix}\n",
    "}_{並列インピーダンス}\n",
    "\\begin{bmatrix}\n",
    "    V_2 \\\\\n",
    "    i_2\n",
    "\\end{bmatrix}\n",
    "$$\n",
    "\n",
    "出力端子を開放したとき、＄i_2 = 0 $なので、これからゲインGは、以下のようになります。\n",
    "\n",
    "$$\n",
    "\\begin{bmatrix}\n",
    "    V_1 \\\\\n",
    "    i_1\n",
    "\\end{bmatrix} = \n",
    "\\begin{bmatrix}\n",
    "    1 + Z_1/Z_2 & Z_1 \\\\\n",
    "    1/Z_2 & 1\n",
    "\\end{bmatrix}\n",
    "\\begin{bmatrix}\n",
    "    V_2 \\\\\n",
    "    0\n",
    "\\end{bmatrix}\n",
    "$$\n",
    "\n",
    "$$\n",
    "    G = \\frac{V_2}{V_1} = \\frac{Z_2}{Z_1 + Z_2}\n",
    "$$"
   ]
  },
  {
   "cell_type": "markdown",
   "metadata": {},
   "source": [
    "### ４端子の特性\n",
    "MATLAB互換のライブラリPython-Controlを使って４端子の伝達関数を求め、特性曲線を出力してみましょう。\n",
    "\n",
    "最初にPython-Controlをインストールします。\n"
   ]
  },
  {
   "cell_type": "markdown",
   "metadata": {},
   "source": []
  },
  {
   "cell_type": "code",
   "execution_count": 1,
   "metadata": {},
   "outputs": [],
   "source": [
    "!pip -q install control"
   ]
  },
  {
   "cell_type": "markdown",
   "metadata": {},
   "source": [
    "次に、$ Z_1, Z_2 $にバンドパス・フィルターの左のローパス・フィルター（LPF）の特性を計算します。\n",
    "\n",
    "$$\n",
    "Z_1 = R + sL\n",
    "$$\n",
    "$$\n",
    "Z_2 = \\frac{1}{sC}\n",
    "$$\n",
    "から$ G_L $は、次のようになります。\n",
    "$$\n",
    "G_L = \\frac{1}{LC s^2 + RC s + 1}\n",
    "$$"
   ]
  },
  {
   "cell_type": "code",
   "execution_count": 2,
   "metadata": {},
   "outputs": [
    {
     "name": "stdout",
     "output_type": "stream",
     "text": [
      "\n",
      "              1\n",
      "-----------------------------\n",
      "7.26e-15 s^2 + 8.91e-08 s + 1\n",
      "\n"
     ]
    }
   ],
   "source": [
    "from control import matlab\n",
    "\n",
    "R = 270.0\n",
    "L = 22.0e-6\n",
    "C = 330.0e-12\n",
    "# tfの引数のnumrator, denominatorは、sの次元の高い順に指定係数を配列で指定する\n",
    "GL = matlab.tf([1], [L*C, R*C, 1])\n",
    "print(GL)"
   ]
  },
  {
   "cell_type": "code",
   "execution_count": 3,
   "metadata": {},
   "outputs": [
    {
     "data": {
      "image/png": "[encoded data removed]",
      "text/plain": [
       "<Figure size 432x288 with 2 Axes>"
      ]
     },
     "metadata": {
      "needs_background": "light"
     },
     "output_type": "display_data"
    }
   ],
   "source": [
    "from matplotlib import pyplot as plt\n",
    "\n",
    "matlab.bode(GL, Hz=True)\n",
    "plt.show()"
   ]
  },
  {
   "cell_type": "markdown",
   "metadata": {},
   "source": [
    "同様にハイパス・フィルター（HPF）の特性を計算します。\n",
    "\n",
    "$$\n",
    "Z_1 = \\frac{1}{sC} + R \n",
    "$$\n",
    "$$\n",
    "Z_2 = sL\n",
    "$$\n",
    "から$ G_L $は、次のようになります。\n",
    "$$\n",
    "G_L = \\frac{LC s^2}{LC s^2 + RC s + 1}\n",
    "$$"
   ]
  },
  {
   "cell_type": "code",
   "execution_count": 4,
   "metadata": {},
   "outputs": [
    {
     "name": "stdout",
     "output_type": "stream",
     "text": [
      "\n",
      "        1.551e-13 s^2\n",
      "-----------------------------\n",
      "1.551e-13 s^2 + 3.3e-07 s + 1\n",
      "\n"
     ]
    }
   ],
   "source": [
    "R = 1000.0\n",
    "L = 470.0e-6\n",
    "C = 330.0e-12\n",
    "# tfの引数のnumrator, denominatorは、sの次元の高い順に指定係数を配列で指定する\n",
    "GH = matlab.tf([L*C, 0, 0], [L*C, R*C, 1])\n",
    "print(GH)"
   ]
  },
  {
   "cell_type": "code",
   "execution_count": 5,
   "metadata": {},
   "outputs": [
    {
     "data": {
      "image/png": "[encoded data removed]",
      "text/plain": [
       "<Figure size 432x288 with 2 Axes>"
      ]
     },
     "metadata": {
      "needs_background": "light"
     },
     "output_type": "display_data"
    }
   ],
   "source": [
    "matlab.bode(GH, Hz=True)\n",
    "plt.show()"
   ]
  },
  {
   "cell_type": "code",
   "execution_count": 6,
   "metadata": {},
   "outputs": [
    {
     "name": "stdout",
     "output_type": "stream",
     "text": [
      "\n",
      "                         1.551e-13 s^2\n",
      "---------------------------------------------------------------\n",
      "1.126e-27 s^4 + 1.622e-20 s^3 + 1.918e-13 s^2 + 4.191e-07 s + 1\n",
      "\n"
     ]
    },
    {
     "data": {
      "image/png": "[encoded data removed]",
      "text/plain": [
       "<Figure size 432x288 with 2 Axes>"
      ]
     },
     "metadata": {
      "needs_background": "light"
     },
     "output_type": "display_data"
    }
   ],
   "source": [
    "G = GH*GL\n",
    "print(G)\n",
    "matlab.bode(G, Hz=True)\n",
    "plt.show()"
   ]
  },
  {
   "cell_type": "markdown",
   "metadata": {},
   "source": [
    "## ネットワーク図\n",
    "AnalogDiscoveryを使って、ネットワーク解析をしました。\n",
    "\n",
    "<img src=\"images/J3/AnalogDiscovery.png\" width=\"400\" />\n",
    "\n",
    "AnalogDiscoveryとの接続との接続は以下の通りです。\n",
    "\n",
    "| AnalogDiscovery | RFフロントエンド |\n",
    "| :-- | :-- |\n",
    "| Scope Channel 1 Posigive(Orange) | Antena |\n",
    "| Scope Channel 1 Negative(Orange/White) | GND |\n",
    "| Waveform Generator 1(Yellow) | Antena |\n",
    "| Ground(Black) | GND |\n",
    "\n",
    "ネットワーク解析の結果は、以下の通りです。周波数は100kHzから5MHzまでとしました。\n",
    "\n",
    "<img src=\"images/J3/Network.png\" width=\"600\" />\n",
    "\n",
    "トラ技コラム２図AからAM受信機用アンプとバンドパスフィルタの総合周波数特性を引用します。\n",
    "\n",
    "トラ技のコラム２の値より3〜5dBほど低い値ですが、形状はよく捉えていると思います。\n",
    "\n",
    "<img src=\"images/J3/Fig-A.png\" width=\"500\" />\n",
    "\n"
   ]
  },
  {
   "cell_type": "code",
   "execution_count": null,
   "metadata": {},
   "outputs": [],
   "source": []
  }
 ],
 "metadata": {
  "kernelspec": {
   "display_name": "Python 3",
   "language": "python",
   "name": "python3"
  },
  "language_info": {
   "codemirror_mode": {
    "name": "ipython",
    "version": 3
   },
   "file_extension": ".py",
   "mimetype": "text/x-python",
   "name": "python",
   "nbconvert_exporter": "python",
   "pygments_lexer": "ipython3",
   "version": "3.8.8"
  }
 },
 "nbformat": 4,
 "nbformat_minor": 2
}
