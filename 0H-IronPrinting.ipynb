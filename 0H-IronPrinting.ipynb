{
 "cells": [
  {
   "cell_type": "markdown",
   "metadata": {},
   "source": [
    "オリジナルの作成：2015/02/01"
   ]
  },
  {
   "cell_type": "markdown",
   "metadata": {},
   "source": [
    "## 簡単アイロンプリント\n",
    "Arduino用のシールドが簡単にできればと思い、プリントパターンを検索したところ、 スイッチサイエンスさんの バニラシールド のページに以下の画像を見つけました。\n",
    "\n",
    "<img src=\"images/0H/th_vanilla_pattern.jpg\" width=\"400\" />\n",
    "\n",
    "更に、EAGLE用のbrdファイルも公開されています。\n",
    "\n",
    "- [filevanilla-shield.brd](http://trac.switch-science.com/attachment/wiki/VanillaShield/vanilla-shield.brd)\n",
    "\n",
    "これを使って以下の様なPDFファイルを作成しました。\n",
    "\n",
    "- [filevanilla-shield.pdf](data/filevanilla-shield.pdf)\n",
    "\n",
    "### 1枚10円のアイロンプリント\n",
    "久しぶりにアイロンプリントを検索すると安くできる方法が 「写真で見る工作室」の \n",
    "[熱転写紙とGreenTRF ](http://iizukakuromaguro.sakura.ne.jp/389_ttp/389_ttp.html)\n",
    "に \n",
    "[サーマルトランスファーペーパー](http://ja.aliexpress.com/item/Hot-50pcs-PCB-circuit-board-thermal-transfer-paper-transfer-paper-A4-size-hot-sale-in-stock/1036906319.html)\n",
    "という格安の熱転写紙が紹介されていました。\n",
    "\n",
    "50枚で$8.88+送料$6.32（香港エクスプレスで1週間）で1,892円でした。 A4サイズの紙で1枚が約40円で、レーザープリンターでプリントするときには 1/4に切って紙に貼り付けて使うので、1枚のプリント基板では10円のコストになります。\n",
    "\n",
    "<img src=\"images/0H/sheet.png\" width=\"400\" />"
   ]
  },
  {
   "cell_type": "markdown",
   "metadata": {},
   "source": [
    "### バニラシールドのパターンを生基板に転写\n",
    "サーマルトランスファーペーパーにバニラシールドを印刷して、生基板に転写します。\n",
    "\n",
    "私は、 熱転写紙とGreenTRF で紹介されていたラミネート機を使いましたが、転写時間がPress-n-Peel Blueと同じとあったので、 普通のアイロンで中温から高温の温度に設定し、1分から数分程押さえると転写できると思います。\n",
    "\n",
    "Arduino勉強会に参加された方には、A4サイズのバニラシールドパターンを実費*1にてお分けします。\n",
    "\n",
    "失敗しても、ステンレスたわしでこすれば何度でも生基板に転写できます。\n",
    "\n",
    "<img src=\"images/0H/vanilla_transfer.png\" width=\"300\" />\n",
    "\n",
    "### バニラシールドパターンに回路を描く\n",
    "市販のマッキーペン を使って回路を生基板に転写したバニラシールドパターンに描きます。 間違ってもシンナーで簡単に消せるので、安心です。"
   ]
  },
  {
   "cell_type": "markdown",
   "metadata": {},
   "source": [
    "## 変換シールドを作る\n",
    "作って遊べるArduino互換機 で紹介されているシールドで最も感動したのが、Arduinoとの変換シールドです。\n",
    "\n",
    "Arduino変換基板を例にプリント基板を作ってみます。赤の部分が変換シールド用に書き込んだ回路です。\n",
    "\n",
    "<img src=\"images/0H/vanilla_change.png\" width=\"300\" />\n",
    "\n",
    "市販のジップロックにエッジング液と基板を入れ、トレイにお湯（40℃）を付けて、 割り箸で銅が溶けるのを確かめながら、エッチングします。\n",
    "\n",
    "<img src=\"images/0H/etching_tray.png\" width=\"300\" />\n",
    "\n",
    "不要な銅がとけたら、箸で取りだし、キッチンタオルでエッチング液を拭き取り、水洗いします。\n",
    "\n",
    "<img src=\"images/0H/etching_fin.png\" width=\"300\" />\n",
    "\n",
    "シンナーでマッキーペンで描いた回路を消し、ステンレスたわしでこすって熱転写したトナーを取り除きます。\n",
    "\n",
    "これでオリジナルArduinoシールドの完成です。\n",
    "\n",
    "<img src=\"images/0H/change_fix.png\" width=\"300\" />\n",
    "\n",
    "使ったエッチング液はまだ使えるので、ジュースのパックなどに入れて保管します。 使えなくなったら付属の中和剤を入れて、園芸用のコンクリートで固めて不燃物で出します。\n",
    "\n",
    "穴開けには、 サンハヤトのD-3 とスタンド*4、 0.8mの半月型ドリルビット を使用しました。\n",
    "\n",
    "<img src=\"images/0H/D3.png\" width=\"300\" />\n",
    "\n",
    "完成したlbeDuino用Arduino変換シールドです。\n",
    "\n",
    "<img src=\"images/0H/change_brd.png\" width=\"300\" />"
   ]
  },
  {
   "cell_type": "code",
   "execution_count": null,
   "metadata": {
    "collapsed": true
   },
   "outputs": [],
   "source": []
  }
 ],
 "metadata": {
  "kernelspec": {
   "display_name": "Python 2",
   "language": "python",
   "name": "python2"
  },
  "language_info": {
   "codemirror_mode": {
    "name": "ipython",
    "version": 2
   },
   "file_extension": ".py",
   "mimetype": "text/x-python",
   "name": "python",
   "nbconvert_exporter": "python",
   "pygments_lexer": "ipython2",
   "version": "2.7.13"
  }
 },
 "nbformat": 4,
 "nbformat_minor": 0
}
